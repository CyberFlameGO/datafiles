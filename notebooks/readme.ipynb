{
 "cells": [
  {
   "cell_type": "code",
   "execution_count": null,
   "id": "aee68663",
   "metadata": {
    "tags": []
   },
   "outputs": [],
   "source": [
    "%%sh\n",
    "\n",
    "rm -rf inventory"
   ]
  },
  {
   "cell_type": "markdown",
   "id": "9a4a585a",
   "metadata": {
    "tags": []
   },
   "source": [
    "# Define a model"
   ]
  },
  {
   "cell_type": "code",
   "execution_count": null,
   "id": "a414d9fb",
   "metadata": {
    "tags": []
   },
   "outputs": [],
   "source": [
    "from datafiles import datafile\n",
    "\n",
    "@datafile(\"inventory/items/{self.name}.yml\")\n",
    "class InventoryItem:\n",
    "    \"\"\"Class for keeping track of an item in inventory.\"\"\"\n",
    "    \n",
    "    name: str\n",
    "    unit_price: float\n",
    "    quantity_on_hand: int = 0\n",
    "\n",
    "    def total_cost(self) -> float:\n",
    "        return self.unit_price * self.quantity_on_hand"
   ]
  },
  {
   "cell_type": "code",
   "execution_count": null,
   "id": "8661d043",
   "metadata": {
    "tags": []
   },
   "outputs": [],
   "source": [
    "item = InventoryItem(\"widget\", 3)"
   ]
  },
  {
   "cell_type": "code",
   "execution_count": null,
   "id": "5768fa8c",
   "metadata": {
    "tags": []
   },
   "outputs": [
    {
     "name": "stdout",
     "output_type": "stream",
     "text": [
      "unit_price: 3.0\n"
     ]
    }
   ],
   "source": [
    "%%sh\n",
    "\n",
    "cat inventory/items/widget.yml"
   ]
  },
  {
   "cell_type": "markdown",
   "id": "64789ad7",
   "metadata": {
    "tags": []
   },
   "source": [
    "# Save object changes"
   ]
  },
  {
   "cell_type": "code",
   "execution_count": null,
   "id": "b990ca6f",
   "metadata": {
    "tags": []
   },
   "outputs": [],
   "source": [
    "item.quantity_on_hand += 100"
   ]
  },
  {
   "cell_type": "code",
   "execution_count": null,
   "id": "7261d53f",
   "metadata": {
    "tags": []
   },
   "outputs": [
    {
     "name": "stdout",
     "output_type": "stream",
     "text": [
      "unit_price: 3.0\n",
      "quantity_on_hand: 100\n"
     ]
    }
   ],
   "source": [
    "%%sh\n",
    "\n",
    "cat inventory/items/widget.yml"
   ]
  },
  {
   "cell_type": "markdown",
   "id": "8df28f83",
   "metadata": {
    "tags": []
   },
   "source": [
    "# Load file changes"
   ]
  },
  {
   "cell_type": "code",
   "execution_count": null,
   "id": "9c9caee2",
   "metadata": {
    "tags": []
   },
   "outputs": [
    {
     "name": "stdout",
     "output_type": "stream",
     "text": [
      "Overwriting inventory/items/widget.yml\n"
     ]
    }
   ],
   "source": [
    "%%writefile inventory/items/widget.yml\n",
    "\n",
    "unit_price: 2.5  # was 3.0\n",
    "quantity_on_hand: 100"
   ]
  },
  {
   "cell_type": "code",
   "execution_count": null,
   "id": "294e96a4",
   "metadata": {
    "tags": []
   },
   "outputs": [
    {
     "data": {
      "text/plain": [
       "2.5"
      ]
     },
     "execution_count": null,
     "metadata": {},
     "output_type": "execute_result"
    }
   ],
   "source": [
    "item.unit_price"
   ]
  },
  {
   "cell_type": "markdown",
   "id": "0dee199d",
   "metadata": {
    "tags": []
   },
   "source": [
    "# Restore object from file"
   ]
  },
  {
   "cell_type": "code",
   "execution_count": null,
   "id": "30a3cd24",
   "metadata": {
    "tags": []
   },
   "outputs": [],
   "source": [
    "from datafiles import Missing\n",
    "\n",
    "item = InventoryItem(\"widget\", Missing)\n",
    "\n",
    "assert item.unit_price == 2.5\n",
    "assert item.quantity_on_hand == 100"
   ]
  }
 ],
 "metadata": {
  "kernelspec": {
   "display_name": "Python 3",
   "language": "python",
   "name": "python3"
  },
  "language_info": {
   "codemirror_mode": {
    "name": "ipython",
    "version": 3
   },
   "file_extension": ".py",
   "mimetype": "text/x-python",
   "name": "python",
   "nbconvert_exporter": "python",
   "pygments_lexer": "ipython3",
   "version": "3.11.0"
  }
 },
 "nbformat": 4,
 "nbformat_minor": 5
}
