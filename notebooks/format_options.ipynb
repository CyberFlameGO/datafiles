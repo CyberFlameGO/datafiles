{
 "cells": [
  {
   "cell_type": "code",
   "execution_count": null,
   "id": "f1d2edfd",
   "metadata": {
    "tags": []
   },
   "outputs": [],
   "source": [
    "%%sh\n",
    "\n",
    "rm -f files/format_options.*"
   ]
  },
  {
   "cell_type": "code",
   "execution_count": null,
   "id": "deea7e95",
   "metadata": {
    "tags": []
   },
   "outputs": [],
   "source": [
    "from dataclasses import dataclass\n",
    "from typing import List\n",
    "\n",
    "@dataclass\n",
    "class Nested:\n",
    "    value: int\n",
    "\n",
    "@dataclass\n",
    "class Base:\n",
    "    my_dict: Nested\n",
    "    my_list: List[Nested]\n",
    "    my_bool: bool = True\n",
    "    my_float: float = 1.23\n",
    "    my_int: int = 42\n",
    "    my_str: str = \"Hello, world!\""
   ]
  },
  {
   "cell_type": "markdown",
   "id": "b0ef234f",
   "metadata": {
    "tags": []
   },
   "source": [
    "# JSON"
   ]
  },
  {
   "cell_type": "code",
   "execution_count": null,
   "id": "d5b7cc47",
   "metadata": {
    "tags": []
   },
   "outputs": [],
   "source": [
    "from datafiles import datafile\n",
    "\n",
    "@datafile('files/format_options.json', defaults=True)\n",
    "class Sample(Base):\n",
    "    fmt: str = \"JavaScript Object Notation\"\n",
    "        \n",
    "sample = Sample(Nested(0), [Nested(1), Nested(2)])"
   ]
  },
  {
   "cell_type": "code",
   "execution_count": null,
   "id": "d147486e",
   "metadata": {
    "tags": []
   },
   "outputs": [
    {
     "name": "stdout",
     "output_type": "stream",
     "text": [
      "{\n",
      "  \"my_dict\": {\n",
      "    \"value\": 0\n",
      "  },\n",
      "  \"my_list\": [\n",
      "    {\n",
      "      \"value\": 1\n",
      "    },\n",
      "    {\n",
      "      \"value\": 2\n",
      "    }\n",
      "  ],\n",
      "  \"my_bool\": true,\n",
      "  \"my_float\": 1.23,\n",
      "  \"my_int\": 42,\n",
      "  \"my_str\": \"Hello, world!\"\n",
      "}"
     ]
    }
   ],
   "source": [
    "%%sh\n",
    "\n",
    "cat files/format_options.json"
   ]
  },
  {
   "cell_type": "markdown",
   "id": "1c9483c2",
   "metadata": {
    "tags": []
   },
   "source": [
    "# TOML"
   ]
  },
  {
   "cell_type": "code",
   "execution_count": null,
   "id": "ba8ca2f4",
   "metadata": {
    "tags": []
   },
   "outputs": [],
   "source": [
    "from datafiles import datafile\n",
    "\n",
    "@datafile('files/format_options.toml', defaults=True)\n",
    "class Sample(Base):\n",
    "    fmt: str = \"Tom's Obvious Minimal Language\"\n",
    "        \n",
    "sample = Sample(Nested(0), [Nested(1), Nested(2)])"
   ]
  },
  {
   "cell_type": "code",
   "execution_count": null,
   "id": "e7a69a4b",
   "metadata": {
    "tags": []
   },
   "outputs": [
    {
     "name": "stdout",
     "output_type": "stream",
     "text": [
      "my_bool = true\n",
      "my_float = 1.23\n",
      "my_int = 42\n",
      "my_str = \"Hello, world!\"\n",
      "[[my_list]]\n",
      "value = 1\n",
      "\n",
      "[[my_list]]\n",
      "value = 2\n",
      "\n",
      "[my_dict]\n",
      "value = 0\n"
     ]
    }
   ],
   "source": [
    "%%sh\n",
    "\n",
    "cat files/format_options.toml"
   ]
  },
  {
   "cell_type": "markdown",
   "id": "fc1629c3",
   "metadata": {
    "tags": []
   },
   "source": [
    "# YAML"
   ]
  },
  {
   "cell_type": "code",
   "execution_count": null,
   "id": "002dac5d",
   "metadata": {
    "tags": []
   },
   "outputs": [],
   "source": [
    "from datafiles import datafile\n",
    "\n",
    "@datafile('files/format_options.yml', defaults=True)\n",
    "class Sample(Base):\n",
    "    fmt: str = \"YAML Ain't Markup Language\"\n",
    "        \n",
    "sample = Sample(Nested(0), [Nested(1), Nested(2)])"
   ]
  },
  {
   "cell_type": "code",
   "execution_count": null,
   "id": "d82b5438",
   "metadata": {
    "tags": []
   },
   "outputs": [
    {
     "name": "stdout",
     "output_type": "stream",
     "text": [
      "my_dict:\n",
      "  value: 0\n",
      "my_list:\n",
      "  - value: 1\n",
      "  - value: 2\n",
      "my_bool: true\n",
      "my_float: 1.23\n",
      "my_int: 42\n",
      "my_str: Hello, world!\n"
     ]
    }
   ],
   "source": [
    "%%sh\n",
    "\n",
    "cat files/format_options.yml"
   ]
  },
  {
   "cell_type": "code",
   "execution_count": null,
   "id": "17a2dc10",
   "metadata": {
    "tags": []
   },
   "outputs": [],
   "source": []
  }
 ],
 "metadata": {
  "kernelspec": {
   "display_name": "Python 3",
   "language": "python",
   "name": "python3"
  },
  "language_info": {
   "codemirror_mode": {
    "name": "ipython",
    "version": 3
   },
   "file_extension": ".py",
   "mimetype": "text/x-python",
   "name": "python",
   "nbconvert_exporter": "python",
   "pygments_lexer": "ipython3",
   "version": "3.9.2"
  }
 },
 "nbformat": 4,
 "nbformat_minor": 5
}
