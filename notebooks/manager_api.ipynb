{
 "cells": [
  {
   "cell_type": "code",
   "execution_count": null,
   "id": "da0f9103",
   "metadata": {
    "tags": []
   },
   "outputs": [],
   "source": [
    "%%sh\n",
    "\n",
    "rm -rf my_models"
   ]
  },
  {
   "cell_type": "code",
   "execution_count": null,
   "id": "e8119d02",
   "metadata": {
    "tags": []
   },
   "outputs": [],
   "source": [
    "from datafiles import datafile\n",
    "\n",
    "@datafile(\"my_models/{self.my_key}.yml\")\n",
    "class MyModel:\n",
    "\n",
    "    my_key: str\n",
    "    my_value: int = 0"
   ]
  },
  {
   "cell_type": "code",
   "execution_count": null,
   "id": "03b61511",
   "metadata": {
    "tags": []
   },
   "outputs": [
    {
     "data": {
      "text/plain": [
       "MyModel(my_key='foo', my_value=0)"
      ]
     },
     "execution_count": null,
     "metadata": {},
     "output_type": "execute_result"
    }
   ],
   "source": [
    "MyModel('foo')"
   ]
  },
  {
   "cell_type": "markdown",
   "id": "b3e24c8b",
   "metadata": {
    "tags": []
   },
   "source": [
    "# `get_or_none(*args, **kwargs)`"
   ]
  },
  {
   "cell_type": "code",
   "execution_count": null,
   "id": "d63d24ab",
   "metadata": {
    "tags": []
   },
   "outputs": [
    {
     "data": {
      "text/plain": [
       "MyModel(my_key='foo', my_value=0)"
      ]
     },
     "execution_count": null,
     "metadata": {},
     "output_type": "execute_result"
    }
   ],
   "source": [
    "MyModel.objects.get_or_none('foo')"
   ]
  },
  {
   "cell_type": "code",
   "execution_count": null,
   "id": "6b3f1e0c",
   "metadata": {
    "tags": []
   },
   "outputs": [],
   "source": [
    "item = MyModel.objects.get_or_none('bar')\n",
    "\n",
    "assert item is None"
   ]
  },
  {
   "cell_type": "markdown",
   "id": "bea5eb75",
   "metadata": {
    "tags": []
   },
   "source": [
    "# `get_or_create(*args, **kwags)`"
   ]
  },
  {
   "cell_type": "code",
   "execution_count": null,
   "id": "47b6f9c7",
   "metadata": {
    "tags": []
   },
   "outputs": [
    {
     "data": {
      "text/plain": [
       "MyModel(my_key='bar', my_value=42)"
      ]
     },
     "execution_count": null,
     "metadata": {},
     "output_type": "execute_result"
    }
   ],
   "source": [
    "MyModel.objects.get_or_create('bar', 42)"
   ]
  },
  {
   "cell_type": "code",
   "execution_count": null,
   "id": "7821a965",
   "metadata": {
    "tags": []
   },
   "outputs": [
    {
     "data": {
      "text/plain": [
       "MyModel(my_key='bar', my_value=42)"
      ]
     },
     "execution_count": null,
     "metadata": {},
     "output_type": "execute_result"
    }
   ],
   "source": [
    "MyModel.objects.get_or_create('bar')"
   ]
  },
  {
   "cell_type": "markdown",
   "id": "4e982b3a",
   "metadata": {
    "tags": []
   },
   "source": [
    "# `all()`"
   ]
  },
  {
   "cell_type": "code",
   "execution_count": null,
   "id": "b7aa9e06",
   "metadata": {
    "tags": []
   },
   "outputs": [
    {
     "data": {
      "text/plain": [
       "[MyModel(my_key='foo', my_value=0), MyModel(my_key='bar', my_value=42)]"
      ]
     },
     "execution_count": null,
     "metadata": {},
     "output_type": "execute_result"
    }
   ],
   "source": [
    "generator = MyModel.objects.all()\n",
    "\n",
    "list(generator)"
   ]
  },
  {
   "cell_type": "markdown",
   "id": "a30c7a7e",
   "metadata": {
    "tags": []
   },
   "source": [
    "# `filter(**kwargs)`"
   ]
  },
  {
   "cell_type": "code",
   "execution_count": null,
   "id": "6eed4823",
   "metadata": {
    "tags": []
   },
   "outputs": [
    {
     "data": {
      "text/plain": [
       "[MyModel(my_key='bar', my_value=42)]"
      ]
     },
     "execution_count": null,
     "metadata": {},
     "output_type": "execute_result"
    }
   ],
   "source": [
    "generator = MyModel.objects.filter(my_value=42)\n",
    "\n",
    "list(generator)"
   ]
  }
 ],
 "metadata": {
  "kernelspec": {
   "display_name": "Python 3",
   "language": "python",
   "name": "python3"
  },
  "language_info": {
   "codemirror_mode": {
    "name": "ipython",
    "version": 3
   },
   "file_extension": ".py",
   "mimetype": "text/x-python",
   "name": "python",
   "nbconvert_exporter": "python",
   "pygments_lexer": "ipython3",
   "version": "3.9.7"
  }
 },
 "nbformat": 4,
 "nbformat_minor": 5
}
