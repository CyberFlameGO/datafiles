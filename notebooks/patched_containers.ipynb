{
 "cells": [
  {
   "cell_type": "code",
   "execution_count": null,
   "id": "ef9783e6",
   "metadata": {
    "tags": []
   },
   "outputs": [],
   "source": [
    "%%sh\n",
    "\n",
    "rm -f files/patched_containers.yml"
   ]
  },
  {
   "cell_type": "code",
   "execution_count": null,
   "id": "a36fc4d8",
   "metadata": {
    "tags": []
   },
   "outputs": [
    {
     "name": "stderr",
     "output_type": "stream",
     "text": [
      "Schema enforcement not possible with 'Dict' annotation\n"
     ]
    }
   ],
   "source": [
    "from typing import List, Dict\n",
    "\n",
    "from datafiles import datafile, field\n",
    "\n",
    "@datafile('files/patched_containers.yml')\n",
    "class Sample:\n",
    "    items: List[float] = field(default_factory=list)\n",
    "    data: Dict[str, int] = field(default_factory=dict)\n",
    "        \n",
    "sample = Sample()"
   ]
  },
  {
   "cell_type": "markdown",
   "id": "c48671c1",
   "metadata": {
    "tags": []
   },
   "source": [
    "# Lists"
   ]
  },
  {
   "cell_type": "code",
   "execution_count": null,
   "id": "2b4e9ee9",
   "metadata": {
    "tags": []
   },
   "outputs": [],
   "source": [
    "sample.items.append(1)\n",
    "sample.items.append(2.3)"
   ]
  },
  {
   "cell_type": "code",
   "execution_count": null,
   "id": "4b6650f3",
   "metadata": {
    "tags": []
   },
   "outputs": [
    {
     "name": "stdout",
     "output_type": "stream",
     "text": [
      "items:\n",
      "  - 1.0\n",
      "  - 2.3\n"
     ]
    }
   ],
   "source": [
    "%%sh\n",
    "\n",
    "cat files/patched_containers.yml"
   ]
  },
  {
   "cell_type": "code",
   "execution_count": null,
   "id": "47bfe3a4",
   "metadata": {
    "tags": []
   },
   "outputs": [],
   "source": [
    "sample.items.insert(0, 4)"
   ]
  },
  {
   "cell_type": "code",
   "execution_count": null,
   "id": "9feef98c",
   "metadata": {
    "tags": []
   },
   "outputs": [
    {
     "name": "stdout",
     "output_type": "stream",
     "text": [
      "items:\n",
      "  - 4.0\n",
      "  - 1.0\n",
      "  - 2.3\n"
     ]
    }
   ],
   "source": [
    "%%sh\n",
    "\n",
    "cat files/patched_containers.yml"
   ]
  },
  {
   "cell_type": "code",
   "execution_count": null,
   "id": "bbefc21a",
   "metadata": {
    "tags": []
   },
   "outputs": [],
   "source": [
    "sample.items.remove(1.0)"
   ]
  },
  {
   "cell_type": "code",
   "execution_count": null,
   "id": "b8b9821a",
   "metadata": {
    "tags": []
   },
   "outputs": [
    {
     "name": "stdout",
     "output_type": "stream",
     "text": [
      "items:\n",
      "  - 4.0\n",
      "  - 2.3\n"
     ]
    }
   ],
   "source": [
    "%%sh\n",
    "\n",
    "cat files/patched_containers.yml"
   ]
  },
  {
   "cell_type": "markdown",
   "id": "cc0ec500",
   "metadata": {
    "tags": []
   },
   "source": [
    "# Dictionaries"
   ]
  },
  {
   "cell_type": "code",
   "execution_count": null,
   "id": "9db16e10",
   "metadata": {
    "tags": []
   },
   "outputs": [],
   "source": [
    "sample.data.update(a=1, b=2)"
   ]
  },
  {
   "cell_type": "code",
   "execution_count": null,
   "id": "3a291308",
   "metadata": {
    "tags": []
   },
   "outputs": [
    {
     "name": "stdout",
     "output_type": "stream",
     "text": [
      "items:\n",
      "  - 4.0\n",
      "  - 2.3\n",
      "data:\n",
      "  a: 1\n",
      "  b: 2\n"
     ]
    }
   ],
   "source": [
    "%%sh\n",
    "\n",
    "cat files/patched_containers.yml"
   ]
  },
  {
   "cell_type": "code",
   "execution_count": null,
   "id": "f0f4556c",
   "metadata": {
    "tags": []
   },
   "outputs": [],
   "source": [
    "sample.data['c'] = 3"
   ]
  },
  {
   "cell_type": "code",
   "execution_count": null,
   "id": "19c30b49",
   "metadata": {
    "tags": []
   },
   "outputs": [
    {
     "name": "stdout",
     "output_type": "stream",
     "text": [
      "items:\n",
      "  - 4.0\n",
      "  - 2.3\n",
      "data:\n",
      "  a: 1\n",
      "  b: 2\n",
      "  c: 3\n"
     ]
    }
   ],
   "source": [
    "%%sh\n",
    "\n",
    "cat files/patched_containers.yml"
   ]
  },
  {
   "cell_type": "code",
   "execution_count": null,
   "id": "fa6c4dc9",
   "metadata": {
    "tags": []
   },
   "outputs": [
    {
     "data": {
      "text/plain": [
       "2"
      ]
     },
     "execution_count": null,
     "metadata": {},
     "output_type": "execute_result"
    }
   ],
   "source": [
    "sample.data.pop('b')"
   ]
  },
  {
   "cell_type": "code",
   "execution_count": null,
   "id": "d3f58321",
   "metadata": {
    "tags": []
   },
   "outputs": [
    {
     "name": "stdout",
     "output_type": "stream",
     "text": [
      "items:\n",
      "  - 4.0\n",
      "  - 2.3\n",
      "data:\n",
      "  a: 1\n",
      "  c: 3\n"
     ]
    }
   ],
   "source": [
    "%%sh\n",
    "\n",
    "cat files/patched_containers.yml"
   ]
  },
  {
   "cell_type": "code",
   "execution_count": null,
   "id": "c2868173",
   "metadata": {
    "tags": []
   },
   "outputs": [],
   "source": []
  }
 ],
 "metadata": {
  "kernelspec": {
   "display_name": "Python 3",
   "language": "python",
   "name": "python3"
  },
  "language_info": {
   "codemirror_mode": {
    "name": "ipython",
    "version": 3
   },
   "file_extension": ".py",
   "mimetype": "text/x-python",
   "name": "python",
   "nbconvert_exporter": "python",
   "pygments_lexer": "ipython3",
   "version": "3.9.2"
  }
 },
 "nbformat": 4,
 "nbformat_minor": 5
}
