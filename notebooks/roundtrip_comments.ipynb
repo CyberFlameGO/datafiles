{
 "cells": [
  {
   "cell_type": "markdown",
   "metadata": {},
   "source": [
    "# Setup"
   ]
  },
  {
   "cell_type": "code",
   "execution_count": 1,
   "metadata": {},
   "outputs": [],
   "source": [
    "%load_ext autoreload\n",
    "%autoreload 2"
   ]
  },
  {
   "cell_type": "code",
   "execution_count": 2,
   "metadata": {},
   "outputs": [],
   "source": [
    "import log\n",
    "\n",
    "log.init(reset=True, level=log.INFO)"
   ]
  },
  {
   "cell_type": "markdown",
   "metadata": {},
   "source": [
    "# Define Class"
   ]
  },
  {
   "cell_type": "code",
   "execution_count": 3,
   "metadata": {},
   "outputs": [],
   "source": [
    "from dataclasses import dataclass\n",
    "\n",
    "from datafiles import sync\n",
    "\n",
    "@sync('sample.yml')\n",
    "@dataclass\n",
    "class Sample:\n",
    "    foo: int\n",
    "    bar: str"
   ]
  },
  {
   "cell_type": "code",
   "execution_count": 4,
   "metadata": {},
   "outputs": [],
   "source": [
    "!rm -f sample.yml"
   ]
  },
  {
   "cell_type": "markdown",
   "metadata": {},
   "source": [
    "# Save File"
   ]
  },
  {
   "cell_type": "code",
   "execution_count": 5,
   "metadata": {},
   "outputs": [
    {
     "name": "stderr",
     "output_type": "stream",
     "text": [
      "WARNING: datafiles.managers: Unable to determine module for Sample(foo=42, bar='Hello, world!')\n",
      "INFO: datafiles.managers: Saving data for Sample(foo=42, bar='Hello, world!')\n",
      "INFO: datafiles.managers: Preserializing object Sample(foo=42, bar='Hello, world!') to data\n",
      "INFO: datafiles.managers: Preserialized object data: {'foo': 42, 'bar': 'Hello, world!'}\n",
      "INFO: datafiles.managers: Serializing data to text (.yml)\n",
      "INFO: datafiles.managers: Serialized text (.yml): 'foo: 42\\nbar: Hello, world!\\n'\n",
      "INFO: datafiles.managers: =================================================================\n",
      "INFO: datafiles.managers: Writing: /Users/Browning/Documents/datafiles/notebooks/sample.yml\n",
      "\n",
      "foo: 42\n",
      "bar: Hello, world!\n",
      "\n",
      "INFO: datafiles.managers: =================================================================\n"
     ]
    }
   ],
   "source": [
    "sample = Sample(42, \"Hello, world!\")"
   ]
  },
  {
   "cell_type": "code",
   "execution_count": 6,
   "metadata": {},
   "outputs": [
    {
     "name": "stdout",
     "output_type": "stream",
     "text": [
      "foo: 42\r\n",
      "bar: Hello, world!\r\n"
     ]
    }
   ],
   "source": [
    "!cat sample.yml"
   ]
  },
  {
   "cell_type": "markdown",
   "metadata": {},
   "source": [
    "# Modify File"
   ]
  },
  {
   "cell_type": "code",
   "execution_count": 7,
   "metadata": {},
   "outputs": [
    {
     "name": "stdout",
     "output_type": "stream",
     "text": [
      "Overwriting sample.yml\n"
     ]
    }
   ],
   "source": [
    "%%writefile sample.yml\n",
    "# Heading comment\n",
    "foo: 42\n",
    "    \n",
    "bar: Hello, world! # Line comment"
   ]
  },
  {
   "cell_type": "code",
   "execution_count": 8,
   "metadata": {},
   "outputs": [
    {
     "name": "stdout",
     "output_type": "stream",
     "text": [
      "# Heading comment\r\n",
      "foo: 42\r\n",
      "    \r\n",
      "bar: Hello, world! # Line comment"
     ]
    }
   ],
   "source": [
    "!cat sample.yml"
   ]
  },
  {
   "cell_type": "markdown",
   "metadata": {},
   "source": [
    "# Load File"
   ]
  },
  {
   "cell_type": "code",
   "execution_count": 9,
   "metadata": {},
   "outputs": [
    {
     "name": "stderr",
     "output_type": "stream",
     "text": [
      "INFO: datafiles.managers: Loading values for Sample(foo=42, bar='Hello, world!')\n",
      "INFO: datafiles.managers: =======================================================================\n",
      "INFO: datafiles.managers: Deserializing: /Users/Browning/Documents/datafiles/notebooks/sample.yml\n",
      "\n",
      "{'bar': 'Hello, world!', 'foo': 42}\n",
      "\n",
      "INFO: datafiles.managers: =======================================================================\n",
      "INFO: datafiles.managers: Setting 'foo' value: 42\n",
      "INFO: datafiles.managers: Setting 'bar' value: 'Hello, world!'\n",
      "INFO: datafiles.managers: Saving data for Sample(foo=2018, bar='Hello, world!')\n",
      "INFO: datafiles.managers: Preserializing object Sample(foo=2018, bar='Hello, world!') to data\n",
      "INFO: datafiles.managers: Preserialized object data: ordereddict([('foo', 2018), ('bar', 'Hello, world!')])\n",
      "INFO: datafiles.managers: Serializing data to text (.yml)\n",
      "INFO: datafiles.managers: Serialized text (.yml): '# Heading comment\\nfoo: 2018\\n\\nbar: Hello, world! # Line comment\\n'\n",
      "INFO: datafiles.managers: =================================================================\n",
      "INFO: datafiles.managers: Writing: /Users/Browning/Documents/datafiles/notebooks/sample.yml\n",
      "\n",
      "# Heading comment\n",
      "foo: 2018\n",
      "\n",
      "bar: Hello, world! # Line comment\n",
      "\n",
      "INFO: datafiles.managers: =================================================================\n",
      "INFO: datafiles.managers: Loading values for Sample(foo=2018, bar='Hello, world!')\n",
      "INFO: datafiles.managers: =======================================================================\n",
      "INFO: datafiles.managers: Deserializing: /Users/Browning/Documents/datafiles/notebooks/sample.yml\n",
      "\n",
      "{'bar': 'Hello, world!', 'foo': 2018}\n",
      "\n",
      "INFO: datafiles.managers: =======================================================================\n",
      "INFO: datafiles.managers: Setting 'foo' value: 2018\n",
      "INFO: datafiles.managers: Setting 'bar' value: 'Hello, world!'\n",
      "INFO: datafiles.managers: Saving data for Sample(foo=2018, bar='Hello, GRPUG!')\n",
      "INFO: datafiles.managers: Preserializing object Sample(foo=2018, bar='Hello, GRPUG!') to data\n",
      "INFO: datafiles.managers: Preserialized object data: ordereddict([('foo', 2018), ('bar', 'Hello, GRPUG!')])\n",
      "INFO: datafiles.managers: Serializing data to text (.yml)\n",
      "INFO: datafiles.managers: Serialized text (.yml): '# Heading comment\\nfoo: 2018\\n\\nbar: Hello, GRPUG! # Line comment\\n'\n",
      "INFO: datafiles.managers: =================================================================\n",
      "INFO: datafiles.managers: Writing: /Users/Browning/Documents/datafiles/notebooks/sample.yml\n",
      "\n",
      "# Heading comment\n",
      "foo: 2018\n",
      "\n",
      "bar: Hello, GRPUG! # Line comment\n",
      "\n",
      "INFO: datafiles.managers: =================================================================\n"
     ]
    }
   ],
   "source": [
    "sample.foo = 2018\n",
    "sample.bar = \"Hello, GRPUG!\""
   ]
  },
  {
   "cell_type": "markdown",
   "metadata": {},
   "source": [
    "# View File"
   ]
  },
  {
   "cell_type": "code",
   "execution_count": 10,
   "metadata": {},
   "outputs": [
    {
     "name": "stdout",
     "output_type": "stream",
     "text": [
      "# Heading comment\r\n",
      "foo: 2018\r\n",
      "\r\n",
      "bar: Hello, GRPUG! # Line comment\r\n"
     ]
    }
   ],
   "source": [
    "!cat sample.yml"
   ]
  }
 ],
 "metadata": {
  "kernelspec": {
   "display_name": "Python 3",
   "language": "python",
   "name": "python3"
  },
  "language_info": {
   "codemirror_mode": {
    "name": "ipython",
    "version": 3
   },
   "file_extension": ".py",
   "mimetype": "text/x-python",
   "name": "python",
   "nbconvert_exporter": "python",
   "pygments_lexer": "ipython3",
   "version": "3.7.0"
  }
 },
 "nbformat": 4,
 "nbformat_minor": 2
}
