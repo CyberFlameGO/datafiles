{
 "cells": [
  {
   "cell_type": "markdown",
   "metadata": {
    "tags": []
   },
   "source": [
    "# Simple"
   ]
  },
  {
   "cell_type": "code",
   "execution_count": null,
   "metadata": {
    "tags": []
   },
   "outputs": [
    {
     "name": "stdout",
     "output_type": "stream",
     "text": [
      "Writing files/sample.yml\n"
     ]
    }
   ],
   "source": [
    "%%writefile files/sample.yml\n",
    "\n",
    "names:\n",
    "- Alice\n",
    "- Bob\n",
    "numbers:\n",
    "- 1\n",
    "- 2"
   ]
  },
  {
   "cell_type": "code",
   "execution_count": null,
   "metadata": {
    "tags": []
   },
   "outputs": [
    {
     "name": "stderr",
     "output_type": "stream",
     "text": [
      "INFO: datafiles.mapper: Loading 'sample' object from 'files/sample.yml'\n"
     ]
    },
    {
     "data": {
      "text/plain": [
       "['Alice', 'Bob']"
      ]
     },
     "execution_count": null,
     "metadata": {},
     "output_type": "execute_result"
    }
   ],
   "source": [
    "from datafiles import auto\n",
    "\n",
    "sample = auto('files/sample.yml')\n",
    "\n",
    "sample.names"
   ]
  },
  {
   "cell_type": "code",
   "execution_count": null,
   "metadata": {
    "tags": []
   },
   "outputs": [
    {
     "name": "stderr",
     "output_type": "stream",
     "text": [
      "INFO: datafiles.mapper: Saving 'sample' object to 'files/sample.yml'\n"
     ]
    }
   ],
   "source": [
    "sample.numbers.append(3)"
   ]
  },
  {
   "cell_type": "code",
   "execution_count": null,
   "metadata": {
    "tags": []
   },
   "outputs": [
    {
     "name": "stdout",
     "output_type": "stream",
     "text": [
      "names:\n",
      "- Alice\n",
      "- Bob\n",
      "numbers:\n",
      "- 1\n",
      "- 2\n",
      "- 3\n"
     ]
    }
   ],
   "source": [
    "%%sh\n",
    "\n",
    "cat files/sample.yml"
   ]
  },
  {
   "cell_type": "markdown",
   "metadata": {
    "tags": []
   },
   "source": [
    "# Complex"
   ]
  },
  {
   "cell_type": "code",
   "execution_count": null,
   "metadata": {
    "tags": []
   },
   "outputs": [
    {
     "name": "stdout",
     "output_type": "stream",
     "text": [
      "language: python\n",
      "matrix:\n",
      "  include:\n",
      "    - python: 3.7\n",
      "      dist: xenial\n",
      "      sudo: true\n",
      "\n",
      "cache:\n",
      "  pip: true\n",
      "  directories:\n",
      "    - ${VIRTUAL_ENV}\n",
      "\n",
      "before_install:\n",
      "  - curl -sSL https://raw.githubusercontent.com/sdispater/poetry/master/get-poetry.py | python\n",
      "  - source $HOME/.poetry/env\n",
      "  - make doctor\n",
      "\n",
      "install:\n",
      "  - make install\n",
      "\n",
      "script:\n",
      "  - make test-repeat\n",
      "  - make check\n",
      "  - make mkdocs\n",
      "\n",
      "after_success:\n",
      "  - pip install coveralls\n",
      "  - coveralls\n",
      "\n",
      "notifications:\n",
      "  email:\n",
      "    on_success: never\n",
      "    on_failure: never\n"
     ]
    }
   ],
   "source": [
    "%%sh\n",
    "\n",
    "cp -f ../.travis.yml files/travis.yml\n",
    "\n",
    "cat files/travis.yml"
   ]
  },
  {
   "cell_type": "code",
   "execution_count": null,
   "metadata": {
    "tags": []
   },
   "outputs": [
    {
     "name": "stderr",
     "output_type": "stream",
     "text": [
      "INFO: datafiles.mapper: Loading 'travis' object from 'files/travis.yml'\n"
     ]
    }
   ],
   "source": [
    "from datafiles import auto\n",
    "\n",
    "travis = auto(\"files/travis.yml\")"
   ]
  },
  {
   "cell_type": "code",
   "execution_count": null,
   "metadata": {
    "tags": []
   },
   "outputs": [
    {
     "name": "stderr",
     "output_type": "stream",
     "text": [
      "INFO: datafiles.mapper: Saving 'travis' object to 'files/travis.yml'\n"
     ]
    }
   ],
   "source": [
    "travis.install.append(\"echo 123 # <= This line is new\")"
   ]
  },
  {
   "cell_type": "code",
   "execution_count": null,
   "metadata": {
    "tags": []
   },
   "outputs": [
    {
     "name": "stdout",
     "output_type": "stream",
     "text": [
      "language: python\n",
      "matrix:\n",
      "  include: []\n",
      "cache:\n",
      "  pip: true\n",
      "  directories: []\n",
      "before_install:\n",
      "- curl -sSL https://raw.githubusercontent.com/sdispater/poetry/master/get-poetry.py\n",
      "  | python\n",
      "- source $HOME/.poetry/env\n",
      "- make doctor\n",
      "install:\n",
      "- make install\n",
      "- 'echo 123 # <= This line is new'\n",
      "script:\n",
      "- make test-repeat\n",
      "- make check\n",
      "- make mkdocs\n",
      "after_success:\n",
      "- pip install coveralls\n",
      "- coveralls\n",
      "notifications:\n",
      "  email:\n",
      "    on_success: never\n",
      "    on_failure: never\n"
     ]
    }
   ],
   "source": [
    "%%sh\n",
    "\n",
    "cat files/travis.yml"
   ]
  }
 ],
 "metadata": {
  "kernelspec": {
   "display_name": "Python 3",
   "language": "python",
   "name": "python3"
  },
  "language_info": {
   "codemirror_mode": {
    "name": "ipython",
    "version": 3
   },
   "file_extension": ".py",
   "mimetype": "text/x-python",
   "name": "python",
   "nbconvert_exporter": "python",
   "pygments_lexer": "ipython3",
   "version": "3.7.2"
  }
 },
 "nbformat": 4,
 "nbformat_minor": 2
}
