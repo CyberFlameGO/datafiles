{
 "cells": [
  {
   "cell_type": "code",
   "execution_count": 1,
   "metadata": {},
   "outputs": [],
   "source": [
    "%%sh\n",
    "\n",
    "rm -rf inventory"
   ]
  },
  {
   "cell_type": "code",
   "execution_count": 2,
   "metadata": {},
   "outputs": [],
   "source": [
    "from dataclasses import dataclass\n",
    "from datafiles import sync\n",
    "\n",
    "@sync(\"inventory/items/{self.pk}.yml\")\n",
    "@dataclass\n",
    "class InventoryItem:\n",
    "    \"\"\"Class for keeping track of an item in inventory.\"\"\"\n",
    "    \n",
    "    pk: int\n",
    "\n",
    "    name: str\n",
    "    unit_price: float\n",
    "    quantity_on_hand: int = 0\n",
    "\n",
    "    def total_cost(self) -> float:\n",
    "        return self.unit_price * self.quantity_on_hand"
   ]
  },
  {
   "cell_type": "code",
   "execution_count": 3,
   "metadata": {},
   "outputs": [
    {
     "name": "stderr",
     "output_type": "stream",
     "text": [
      "INFO: datafiles.managers: Saving data for object: InventoryItem(pk=123, name='Widget', unit_price=3, quantity_on_hand=0)\n",
      "INFO: datafiles.managers: Serialized data to text (.yml): 'name: Widget\\nunit_price: 3.0\\n'\n",
      "INFO: datafiles.managers: Writing: inventory/items/123.yml\n"
     ]
    }
   ],
   "source": [
    "item = InventoryItem(123, \"Widget\", 3)"
   ]
  },
  {
   "cell_type": "code",
   "execution_count": 4,
   "metadata": {},
   "outputs": [
    {
     "name": "stdout",
     "output_type": "stream",
     "text": [
      "name: Widget\n",
      "unit_price: 3.0\n"
     ]
    }
   ],
   "source": [
    "%%sh\n",
    "\n",
    "cat inventory/items/123.yml"
   ]
  },
  {
   "cell_type": "code",
   "execution_count": 5,
   "metadata": {},
   "outputs": [
    {
     "name": "stderr",
     "output_type": "stream",
     "text": [
      "INFO: datafiles.managers: Saving data for object: InventoryItem(pk=123, name='Widget', unit_price=3, quantity_on_hand=100)\n",
      "INFO: datafiles.managers: Serialized data to text (.yml): 'name: Widget\\nunit_price: 3.0\\nquantity_on_hand: 100\\n'\n",
      "INFO: datafiles.managers: Writing: inventory/items/123.yml\n"
     ]
    }
   ],
   "source": [
    "item.quantity_on_hand += 100"
   ]
  },
  {
   "cell_type": "code",
   "execution_count": 6,
   "metadata": {},
   "outputs": [
    {
     "name": "stdout",
     "output_type": "stream",
     "text": [
      "name: Widget\n",
      "unit_price: 3.0\n",
      "quantity_on_hand: 100\n"
     ]
    }
   ],
   "source": [
    "%%sh\n",
    "\n",
    "cat inventory/items/123.yml"
   ]
  },
  {
   "cell_type": "code",
   "execution_count": 7,
   "metadata": {},
   "outputs": [
    {
     "name": "stdout",
     "output_type": "stream",
     "text": [
      "Overwriting inventory/items/123.yml\n"
     ]
    }
   ],
   "source": [
    "%%writefile inventory/items/123.yml\n",
    "\n",
    "name: Widget\n",
    "unit_price: 2.5  # was 3.0\n",
    "quantity_on_hand: 100"
   ]
  },
  {
   "cell_type": "code",
   "execution_count": 8,
   "metadata": {},
   "outputs": [
    {
     "name": "stderr",
     "output_type": "stream",
     "text": [
      "INFO: datafiles.managers: Loading values for <class '__main__.InventoryItem'> instance\n",
      "INFO: datafiles.managers: Deserializing: inventory/items/123.yml\n",
      "INFO: datafiles.managers: Setting 'name' value: 'Widget'\n",
      "INFO: datafiles.managers: Setting 'unit_price' value: 2.5\n",
      "INFO: datafiles.managers: Setting 'quantity_on_hand' value: 100\n",
      "INFO: datafiles.managers: Loaded values for object: InventoryItem(pk=123, name='Widget', unit_price=2.5, quantity_on_hand=100)\n"
     ]
    },
    {
     "data": {
      "text/plain": [
       "2.5"
      ]
     },
     "execution_count": 8,
     "metadata": {},
     "output_type": "execute_result"
    }
   ],
   "source": [
    "item.unit_price"
   ]
  }
 ],
 "metadata": {
  "kernelspec": {
   "display_name": "Python 3",
   "language": "python",
   "name": "python3"
  },
  "language_info": {
   "codemirror_mode": {
    "name": "ipython",
    "version": 3
   },
   "file_extension": ".py",
   "mimetype": "text/x-python",
   "name": "python",
   "nbconvert_exporter": "python",
   "pygments_lexer": "ipython3",
   "version": "3.7.1"
  }
 },
 "nbformat": 4,
 "nbformat_minor": 2
}
