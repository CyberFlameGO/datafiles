{
 "cells": [
  {
   "cell_type": "code",
   "execution_count": null,
   "id": "eb4275ed",
   "metadata": {
    "tags": []
   },
   "outputs": [],
   "source": [
    "%%sh\n",
    "\n",
    "rm -rf inventory"
   ]
  },
  {
   "cell_type": "markdown",
   "id": "4057eb74",
   "metadata": {
    "tags": []
   },
   "source": [
    "# Define a model"
   ]
  },
  {
   "cell_type": "code",
   "execution_count": null,
   "id": "5d145dfa",
   "metadata": {
    "tags": []
   },
   "outputs": [],
   "source": [
    "from datafiles import datafile\n",
    "\n",
    "@datafile(\"inventory/items/{self.name}.yml\")\n",
    "class InventoryItem:\n",
    "    \"\"\"Class for keeping track of an item in inventory.\"\"\"\n",
    "    \n",
    "    name: str\n",
    "    unit_price: float\n",
    "    quantity_on_hand: int = 0\n",
    "\n",
    "    def total_cost(self) -> float:\n",
    "        return self.unit_price * self.quantity_on_hand"
   ]
  },
  {
   "cell_type": "code",
   "execution_count": null,
   "id": "ba7374d7",
   "metadata": {
    "tags": []
   },
   "outputs": [],
   "source": [
    "item = InventoryItem(\"widget\", 3)"
   ]
  },
  {
   "cell_type": "code",
   "execution_count": null,
   "id": "eb951381",
   "metadata": {
    "tags": []
   },
   "outputs": [
    {
     "name": "stdout",
     "output_type": "stream",
     "text": [
      "unit_price: 3.0\n"
     ]
    }
   ],
   "source": [
    "%%sh\n",
    "\n",
    "cat inventory/items/widget.yml"
   ]
  },
  {
   "cell_type": "markdown",
   "id": "bc3b2654",
   "metadata": {
    "tags": []
   },
   "source": [
    "# Save object changes"
   ]
  },
  {
   "cell_type": "code",
   "execution_count": null,
   "id": "e59a3c9e",
   "metadata": {
    "tags": []
   },
   "outputs": [],
   "source": [
    "item.quantity_on_hand += 100"
   ]
  },
  {
   "cell_type": "code",
   "execution_count": null,
   "id": "7e4d36dd",
   "metadata": {
    "tags": []
   },
   "outputs": [
    {
     "name": "stdout",
     "output_type": "stream",
     "text": [
      "unit_price: 3.0\n",
      "quantity_on_hand: 100\n"
     ]
    }
   ],
   "source": [
    "%%sh\n",
    "\n",
    "cat inventory/items/widget.yml"
   ]
  },
  {
   "cell_type": "markdown",
   "id": "c88697cc",
   "metadata": {
    "tags": []
   },
   "source": [
    "# Load file changes"
   ]
  },
  {
   "cell_type": "code",
   "execution_count": null,
   "id": "92460d9a",
   "metadata": {
    "tags": []
   },
   "outputs": [
    {
     "name": "stdout",
     "output_type": "stream",
     "text": [
      "Overwriting inventory/items/widget.yml\n"
     ]
    }
   ],
   "source": [
    "%%writefile inventory/items/widget.yml\n",
    "\n",
    "unit_price: 2.5  # was 3.0\n",
    "quantity_on_hand: 100"
   ]
  },
  {
   "cell_type": "code",
   "execution_count": null,
   "id": "d0d13d5a",
   "metadata": {
    "tags": []
   },
   "outputs": [
    {
     "data": {
      "text/plain": [
       "2.5"
      ]
     },
     "execution_count": null,
     "metadata": {},
     "output_type": "execute_result"
    }
   ],
   "source": [
    "item.unit_price"
   ]
  },
  {
   "cell_type": "markdown",
   "id": "a98f0796",
   "metadata": {
    "tags": []
   },
   "source": [
    "# Restore object from file"
   ]
  },
  {
   "cell_type": "code",
   "execution_count": null,
   "id": "35ec2534",
   "metadata": {
    "tags": []
   },
   "outputs": [],
   "source": [
    "from datafiles import Missing\n",
    "\n",
    "item = InventoryItem(\"widget\", Missing)\n",
    "\n",
    "assert item.unit_price == 2.5\n",
    "assert item.quantity_on_hand == 100"
   ]
  }
 ],
 "metadata": {
  "kernelspec": {
   "display_name": "Python 3",
   "language": "python",
   "name": "python3"
  },
  "language_info": {
   "codemirror_mode": {
    "name": "ipython",
    "version": 3
   },
   "file_extension": ".py",
   "mimetype": "text/x-python",
   "name": "python",
   "nbconvert_exporter": "python",
   "pygments_lexer": "ipython3",
   "version": "3.9.2"
  }
 },
 "nbformat": 4,
 "nbformat_minor": 5
}
