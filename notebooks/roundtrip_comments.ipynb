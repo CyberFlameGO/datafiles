{
 "cells": [
  {
   "cell_type": "markdown",
   "id": "5f263baa",
   "metadata": {
    "tags": []
   },
   "source": [
    "# Define a class"
   ]
  },
  {
   "cell_type": "code",
   "execution_count": null,
   "id": "0502a6b9",
   "metadata": {
    "tags": []
   },
   "outputs": [],
   "source": [
    "%%sh\n",
    "\n",
    "rm -f files/roundtrip_comments.yml"
   ]
  },
  {
   "cell_type": "code",
   "execution_count": null,
   "id": "bb5cbddc",
   "metadata": {
    "tags": []
   },
   "outputs": [],
   "source": [
    "from datafiles import datafile\n",
    "\n",
    "@datafile('files/roundtrip_comments.yml')\n",
    "class Sample:\n",
    "    foo: int\n",
    "    bar: str"
   ]
  },
  {
   "cell_type": "markdown",
   "id": "bc7a232d",
   "metadata": {
    "tags": []
   },
   "source": [
    "# Initialize an instance"
   ]
  },
  {
   "cell_type": "code",
   "execution_count": null,
   "id": "53314ebb",
   "metadata": {
    "tags": []
   },
   "outputs": [],
   "source": [
    "sample = Sample(42, \"Hello, world\")"
   ]
  },
  {
   "cell_type": "code",
   "execution_count": null,
   "id": "669fc69e",
   "metadata": {
    "tags": []
   },
   "outputs": [
    {
     "name": "stdout",
     "output_type": "stream",
     "text": [
      "foo: 42\n",
      "bar: Hello, world\n"
     ]
    }
   ],
   "source": [
    "%%sh\n",
    "\n",
    "cat files/roundtrip_comments.yml"
   ]
  },
  {
   "cell_type": "markdown",
   "id": "5ff85046",
   "metadata": {
    "tags": []
   },
   "source": [
    "# Modify the file"
   ]
  },
  {
   "cell_type": "code",
   "execution_count": null,
   "id": "b53e1c29",
   "metadata": {
    "tags": []
   },
   "outputs": [
    {
     "name": "stdout",
     "output_type": "stream",
     "text": [
      "Overwriting files/roundtrip_comments.yml\n"
     ]
    }
   ],
   "source": [
    "%%writefile files/roundtrip_comments.yml\n",
    "\n",
    "# Heading comment\n",
    "foo: 42\n",
    "    \n",
    "bar: Hello, world! # Line comment"
   ]
  },
  {
   "cell_type": "code",
   "execution_count": null,
   "id": "7c572243",
   "metadata": {
    "tags": []
   },
   "outputs": [
    {
     "name": "stdout",
     "output_type": "stream",
     "text": [
      "\n",
      "# Heading comment\n",
      "foo: 42\n",
      "    \n",
      "bar: Hello, world! # Line comment\n"
     ]
    }
   ],
   "source": [
    "%%sh\n",
    "\n",
    "cat files/roundtrip_comments.yml"
   ]
  },
  {
   "cell_type": "markdown",
   "id": "8c124a31",
   "metadata": {
    "tags": []
   },
   "source": [
    "# Modify the object"
   ]
  },
  {
   "cell_type": "code",
   "execution_count": null,
   "id": "ca6b51b6",
   "metadata": {
    "tags": []
   },
   "outputs": [],
   "source": [
    "sample.foo = 2019\n",
    "sample.bar = \"Hello, notebook\""
   ]
  },
  {
   "cell_type": "markdown",
   "id": "4c619fcc",
   "metadata": {
    "tags": []
   },
   "source": [
    "# View merged contents"
   ]
  },
  {
   "cell_type": "code",
   "execution_count": null,
   "id": "e30a67af",
   "metadata": {
    "tags": []
   },
   "outputs": [
    {
     "name": "stdout",
     "output_type": "stream",
     "text": [
      "# Heading comment\n",
      "foo: 2019\n",
      "\n",
      "bar: Hello, notebook # Line comment\n"
     ]
    }
   ],
   "source": [
    "%%sh\n",
    "\n",
    "cat files/roundtrip_comments.yml"
   ]
  }
 ],
 "metadata": {
  "kernelspec": {
   "display_name": "Python 3",
   "language": "python",
   "name": "python3"
  },
  "language_info": {
   "codemirror_mode": {
    "name": "ipython",
    "version": 3
   },
   "file_extension": ".py",
   "mimetype": "text/x-python",
   "name": "python",
   "nbconvert_exporter": "python",
   "pygments_lexer": "ipython3",
   "version": "3.10.0"
  }
 },
 "nbformat": 4,
 "nbformat_minor": 5
}
