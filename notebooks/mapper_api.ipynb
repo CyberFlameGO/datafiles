{
 "cells": [
  {
   "cell_type": "code",
   "execution_count": null,
   "id": "ac450c75",
   "metadata": {
    "tags": []
   },
   "outputs": [],
   "source": [
    "%%sh\n",
    "\n",
    "rm -rf my_models"
   ]
  },
  {
   "cell_type": "code",
   "execution_count": null,
   "id": "35386abe",
   "metadata": {
    "tags": []
   },
   "outputs": [],
   "source": [
    "from datafiles import datafile\n",
    "\n",
    "@datafile(\"my_models/{self.my_key}.yml\", manual=True)\n",
    "class MyModel:\n",
    "\n",
    "    my_key: str\n",
    "    my_value: int = 1"
   ]
  },
  {
   "cell_type": "code",
   "execution_count": null,
   "id": "e6a76ab8",
   "metadata": {
    "tags": []
   },
   "outputs": [],
   "source": [
    "model = MyModel('foo')"
   ]
  },
  {
   "cell_type": "code",
   "execution_count": null,
   "id": "29aa0277",
   "metadata": {
    "tags": []
   },
   "outputs": [
    {
     "data": {
      "text/plain": [
       "1"
      ]
     },
     "execution_count": null,
     "metadata": {},
     "output_type": "execute_result"
    }
   ],
   "source": [
    "model.my_value"
   ]
  },
  {
   "cell_type": "markdown",
   "id": "5a2e4b1b",
   "metadata": {
    "tags": []
   },
   "source": [
    "# `path`"
   ]
  },
  {
   "cell_type": "code",
   "execution_count": null,
   "id": "6257c54a",
   "metadata": {
    "tags": []
   },
   "outputs": [
    {
     "data": {
      "text/plain": [
       "PosixPath('/Users/Browning/Code/datafiles/notebooks/my_models/foo.yml')"
      ]
     },
     "execution_count": null,
     "metadata": {},
     "output_type": "execute_result"
    }
   ],
   "source": [
    "model.datafile.path"
   ]
  },
  {
   "cell_type": "markdown",
   "id": "fd176fad",
   "metadata": {
    "tags": []
   },
   "source": [
    "# `exists`"
   ]
  },
  {
   "cell_type": "code",
   "execution_count": null,
   "id": "a4b7764c",
   "metadata": {
    "tags": []
   },
   "outputs": [
    {
     "data": {
      "text/plain": [
       "False"
      ]
     },
     "execution_count": null,
     "metadata": {},
     "output_type": "execute_result"
    }
   ],
   "source": [
    "model.datafile.exists"
   ]
  },
  {
   "cell_type": "markdown",
   "id": "b1efc212",
   "metadata": {
    "tags": []
   },
   "source": [
    "# `save()`"
   ]
  },
  {
   "cell_type": "code",
   "execution_count": null,
   "id": "50b3b6ea",
   "metadata": {
    "tags": []
   },
   "outputs": [],
   "source": [
    "model.datafile.save()"
   ]
  },
  {
   "cell_type": "code",
   "execution_count": null,
   "id": "a4b81826",
   "metadata": {
    "tags": []
   },
   "outputs": [
    {
     "data": {
      "text/plain": [
       "True"
      ]
     },
     "execution_count": null,
     "metadata": {},
     "output_type": "execute_result"
    }
   ],
   "source": [
    "model.datafile.exists"
   ]
  },
  {
   "cell_type": "markdown",
   "id": "fb7b9f1a",
   "metadata": {
    "tags": []
   },
   "source": [
    "# `modified`"
   ]
  },
  {
   "cell_type": "code",
   "execution_count": null,
   "id": "3e0a4ae5",
   "metadata": {
    "tags": []
   },
   "outputs": [
    {
     "data": {
      "text/plain": [
       "False"
      ]
     },
     "execution_count": null,
     "metadata": {},
     "output_type": "execute_result"
    }
   ],
   "source": [
    "model.datafile.modified"
   ]
  },
  {
   "cell_type": "code",
   "execution_count": null,
   "id": "ce289c2a",
   "metadata": {
    "tags": []
   },
   "outputs": [
    {
     "name": "stdout",
     "output_type": "stream",
     "text": [
      "Overwriting my_models/foo.yml\n"
     ]
    }
   ],
   "source": [
    "%%writefile my_models/foo.yml\n",
    "\n",
    "my_value: 42"
   ]
  },
  {
   "cell_type": "code",
   "execution_count": null,
   "id": "73935c0a",
   "metadata": {
    "tags": []
   },
   "outputs": [
    {
     "data": {
      "text/plain": [
       "True"
      ]
     },
     "execution_count": null,
     "metadata": {},
     "output_type": "execute_result"
    }
   ],
   "source": [
    "model.datafile.modified"
   ]
  },
  {
   "cell_type": "markdown",
   "id": "28ed5535",
   "metadata": {
    "tags": []
   },
   "source": [
    "# `load()`"
   ]
  },
  {
   "cell_type": "code",
   "execution_count": null,
   "id": "bcf90435",
   "metadata": {
    "tags": []
   },
   "outputs": [],
   "source": [
    "model.datafile.load()"
   ]
  },
  {
   "cell_type": "markdown",
   "id": "804b4a9f",
   "metadata": {
    "tags": []
   },
   "source": [
    "# `data`"
   ]
  },
  {
   "cell_type": "code",
   "execution_count": null,
   "id": "bb004050",
   "metadata": {
    "tags": []
   },
   "outputs": [
    {
     "data": {
      "text/plain": [
       "ordereddict([('my_value', 42)])"
      ]
     },
     "execution_count": null,
     "metadata": {},
     "output_type": "execute_result"
    }
   ],
   "source": [
    "model.datafile.data"
   ]
  }
 ],
 "metadata": {
  "kernelspec": {
   "display_name": "Python 3",
   "language": "python",
   "name": "python3"
  },
  "language_info": {
   "codemirror_mode": {
    "name": "ipython",
    "version": 3
   },
   "file_extension": ".py",
   "mimetype": "text/x-python",
   "name": "python",
   "nbconvert_exporter": "python",
   "pygments_lexer": "ipython3",
   "version": "3.9.2"
  }
 },
 "nbformat": 4,
 "nbformat_minor": 5
}
