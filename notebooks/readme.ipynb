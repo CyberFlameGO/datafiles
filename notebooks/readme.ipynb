{
 "cells": [
  {
   "cell_type": "code",
   "execution_count": null,
   "id": "955e8caa",
   "metadata": {
    "tags": []
   },
   "outputs": [],
   "source": [
    "%%sh\n",
    "\n",
    "rm -rf inventory"
   ]
  },
  {
   "cell_type": "markdown",
   "id": "66d25607",
   "metadata": {
    "tags": []
   },
   "source": [
    "# Define a model"
   ]
  },
  {
   "cell_type": "code",
   "execution_count": null,
   "id": "6f607088",
   "metadata": {
    "tags": []
   },
   "outputs": [],
   "source": [
    "from datafiles import datafile\n",
    "\n",
    "@datafile(\"inventory/items/{self.name}.yml\")\n",
    "class InventoryItem:\n",
    "    \"\"\"Class for keeping track of an item in inventory.\"\"\"\n",
    "    \n",
    "    name: str\n",
    "    unit_price: float\n",
    "    quantity_on_hand: int = 0\n",
    "\n",
    "    def total_cost(self) -> float:\n",
    "        return self.unit_price * self.quantity_on_hand"
   ]
  },
  {
   "cell_type": "code",
   "execution_count": null,
   "id": "f1c858c4",
   "metadata": {
    "tags": []
   },
   "outputs": [],
   "source": [
    "item = InventoryItem(\"widget\", 3)"
   ]
  },
  {
   "cell_type": "code",
   "execution_count": null,
   "id": "5910c245",
   "metadata": {
    "tags": []
   },
   "outputs": [
    {
     "name": "stdout",
     "output_type": "stream",
     "text": [
      "unit_price: 3.0\n"
     ]
    }
   ],
   "source": [
    "%%sh\n",
    "\n",
    "cat inventory/items/widget.yml"
   ]
  },
  {
   "cell_type": "markdown",
   "id": "308e19a9",
   "metadata": {
    "tags": []
   },
   "source": [
    "# Save object changes"
   ]
  },
  {
   "cell_type": "code",
   "execution_count": null,
   "id": "c349a49e",
   "metadata": {
    "tags": []
   },
   "outputs": [],
   "source": [
    "item.quantity_on_hand += 100"
   ]
  },
  {
   "cell_type": "code",
   "execution_count": null,
   "id": "1c6dacc4",
   "metadata": {
    "tags": []
   },
   "outputs": [
    {
     "name": "stdout",
     "output_type": "stream",
     "text": [
      "unit_price: 3.0\n",
      "quantity_on_hand: 100\n"
     ]
    }
   ],
   "source": [
    "%%sh\n",
    "\n",
    "cat inventory/items/widget.yml"
   ]
  },
  {
   "cell_type": "markdown",
   "id": "7991ceca",
   "metadata": {
    "tags": []
   },
   "source": [
    "# Load file changes"
   ]
  },
  {
   "cell_type": "code",
   "execution_count": null,
   "id": "c7ef1dc7",
   "metadata": {
    "tags": []
   },
   "outputs": [
    {
     "name": "stdout",
     "output_type": "stream",
     "text": [
      "Overwriting inventory/items/widget.yml\n"
     ]
    }
   ],
   "source": [
    "%%writefile inventory/items/widget.yml\n",
    "\n",
    "unit_price: 2.5  # was 3.0\n",
    "quantity_on_hand: 100"
   ]
  },
  {
   "cell_type": "code",
   "execution_count": null,
   "id": "462a3a44",
   "metadata": {
    "tags": []
   },
   "outputs": [
    {
     "data": {
      "text/plain": [
       "2.5"
      ]
     },
     "execution_count": null,
     "metadata": {},
     "output_type": "execute_result"
    }
   ],
   "source": [
    "item.unit_price"
   ]
  },
  {
   "cell_type": "markdown",
   "id": "61b4e687",
   "metadata": {
    "tags": []
   },
   "source": [
    "# Restore object from file"
   ]
  },
  {
   "cell_type": "code",
   "execution_count": null,
   "id": "216e68ca",
   "metadata": {
    "tags": []
   },
   "outputs": [],
   "source": [
    "from datafiles import Missing\n",
    "\n",
    "item = InventoryItem(\"widget\", Missing)\n",
    "\n",
    "assert item.unit_price == 2.5\n",
    "assert item.quantity_on_hand == 100"
   ]
  }
 ],
 "metadata": {
  "kernelspec": {
   "display_name": "Python 3",
   "language": "python",
   "name": "python3"
  },
  "language_info": {
   "codemirror_mode": {
    "name": "ipython",
    "version": 3
   },
   "file_extension": ".py",
   "mimetype": "text/x-python",
   "name": "python",
   "nbconvert_exporter": "python",
   "pygments_lexer": "ipython3",
   "version": "3.9.2"
  }
 },
 "nbformat": 4,
 "nbformat_minor": 5
}
