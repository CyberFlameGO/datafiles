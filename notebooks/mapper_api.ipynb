{
 "cells": [
  {
   "cell_type": "code",
   "execution_count": null,
   "id": "377440f0",
   "metadata": {
    "tags": []
   },
   "outputs": [],
   "source": [
    "%%sh\n",
    "\n",
    "rm -rf my_models"
   ]
  },
  {
   "cell_type": "code",
   "execution_count": null,
   "id": "6928e36d",
   "metadata": {
    "tags": []
   },
   "outputs": [],
   "source": [
    "from datafiles import datafile\n",
    "\n",
    "@datafile(\"my_models/{self.my_key}.yml\", manual=True)\n",
    "class MyModel:\n",
    "\n",
    "    my_key: str\n",
    "    my_value: int = 1"
   ]
  },
  {
   "cell_type": "code",
   "execution_count": null,
   "id": "23685727",
   "metadata": {
    "tags": []
   },
   "outputs": [],
   "source": [
    "model = MyModel('foo')"
   ]
  },
  {
   "cell_type": "code",
   "execution_count": null,
   "id": "f3bcfbfa",
   "metadata": {
    "tags": []
   },
   "outputs": [
    {
     "data": {
      "text/plain": [
       "1"
      ]
     },
     "execution_count": null,
     "metadata": {},
     "output_type": "execute_result"
    }
   ],
   "source": [
    "model.my_value"
   ]
  },
  {
   "cell_type": "markdown",
   "id": "b145ef68",
   "metadata": {
    "tags": []
   },
   "source": [
    "# `path`"
   ]
  },
  {
   "cell_type": "code",
   "execution_count": null,
   "id": "edaf8266",
   "metadata": {
    "tags": []
   },
   "outputs": [
    {
     "data": {
      "text/plain": [
       "PosixPath('/Users/Browning/Code/datafiles/notebooks/my_models/foo.yml')"
      ]
     },
     "execution_count": null,
     "metadata": {},
     "output_type": "execute_result"
    }
   ],
   "source": [
    "model.datafile.path"
   ]
  },
  {
   "cell_type": "markdown",
   "id": "c470c0ee",
   "metadata": {
    "tags": []
   },
   "source": [
    "# `exists`"
   ]
  },
  {
   "cell_type": "code",
   "execution_count": null,
   "id": "8a80b7f4",
   "metadata": {
    "tags": []
   },
   "outputs": [
    {
     "data": {
      "text/plain": [
       "False"
      ]
     },
     "execution_count": null,
     "metadata": {},
     "output_type": "execute_result"
    }
   ],
   "source": [
    "model.datafile.exists"
   ]
  },
  {
   "cell_type": "markdown",
   "id": "5c7493b8",
   "metadata": {
    "tags": []
   },
   "source": [
    "# `save()`"
   ]
  },
  {
   "cell_type": "code",
   "execution_count": null,
   "id": "81a696c0",
   "metadata": {
    "tags": []
   },
   "outputs": [],
   "source": [
    "model.datafile.save()"
   ]
  },
  {
   "cell_type": "code",
   "execution_count": null,
   "id": "f9889d34",
   "metadata": {
    "tags": []
   },
   "outputs": [
    {
     "data": {
      "text/plain": [
       "True"
      ]
     },
     "execution_count": null,
     "metadata": {},
     "output_type": "execute_result"
    }
   ],
   "source": [
    "model.datafile.exists"
   ]
  },
  {
   "cell_type": "markdown",
   "id": "9e089a72",
   "metadata": {
    "tags": []
   },
   "source": [
    "# `modified`"
   ]
  },
  {
   "cell_type": "code",
   "execution_count": null,
   "id": "3d628965",
   "metadata": {
    "tags": []
   },
   "outputs": [
    {
     "data": {
      "text/plain": [
       "False"
      ]
     },
     "execution_count": null,
     "metadata": {},
     "output_type": "execute_result"
    }
   ],
   "source": [
    "model.datafile.modified"
   ]
  },
  {
   "cell_type": "code",
   "execution_count": null,
   "id": "b18038a3",
   "metadata": {
    "tags": []
   },
   "outputs": [
    {
     "name": "stdout",
     "output_type": "stream",
     "text": [
      "Overwriting my_models/foo.yml\n"
     ]
    }
   ],
   "source": [
    "%%writefile my_models/foo.yml\n",
    "\n",
    "my_value: 42"
   ]
  },
  {
   "cell_type": "code",
   "execution_count": null,
   "id": "b8f6885a",
   "metadata": {
    "tags": []
   },
   "outputs": [
    {
     "data": {
      "text/plain": [
       "True"
      ]
     },
     "execution_count": null,
     "metadata": {},
     "output_type": "execute_result"
    }
   ],
   "source": [
    "model.datafile.modified"
   ]
  },
  {
   "cell_type": "markdown",
   "id": "e7f98b40",
   "metadata": {
    "tags": []
   },
   "source": [
    "# `load()`"
   ]
  },
  {
   "cell_type": "code",
   "execution_count": null,
   "id": "7c8113f5",
   "metadata": {
    "tags": []
   },
   "outputs": [],
   "source": [
    "model.datafile.load()"
   ]
  },
  {
   "cell_type": "markdown",
   "id": "124b2145",
   "metadata": {
    "tags": []
   },
   "source": [
    "# `data`"
   ]
  },
  {
   "cell_type": "code",
   "execution_count": null,
   "id": "661c88db",
   "metadata": {
    "tags": []
   },
   "outputs": [
    {
     "data": {
      "text/plain": [
       "ordereddict([('my_value', 42)])"
      ]
     },
     "execution_count": null,
     "metadata": {},
     "output_type": "execute_result"
    }
   ],
   "source": [
    "model.datafile.data"
   ]
  }
 ],
 "metadata": {
  "kernelspec": {
   "display_name": "Python 3",
   "language": "python",
   "name": "python3"
  },
  "language_info": {
   "codemirror_mode": {
    "name": "ipython",
    "version": 3
   },
   "file_extension": ".py",
   "mimetype": "text/x-python",
   "name": "python",
   "nbconvert_exporter": "python",
   "pygments_lexer": "ipython3",
   "version": "3.10.0"
  }
 },
 "nbformat": 4,
 "nbformat_minor": 5
}
