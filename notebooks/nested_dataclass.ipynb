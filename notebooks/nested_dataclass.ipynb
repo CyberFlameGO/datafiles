{
 "cells": [
  {
   "cell_type": "markdown",
   "id": "662968a9",
   "metadata": {
    "tags": []
   },
   "source": [
    "# Define multiple classes"
   ]
  },
  {
   "cell_type": "code",
   "execution_count": null,
   "id": "56a67145",
   "metadata": {
    "tags": []
   },
   "outputs": [],
   "source": [
    "%%sh\n",
    "\n",
    "rm -f files/nested_dataclass.yml"
   ]
  },
  {
   "cell_type": "code",
   "execution_count": null,
   "id": "eece2c75",
   "metadata": {
    "tags": []
   },
   "outputs": [],
   "source": [
    "from dataclasses import dataclass\n",
    "\n",
    "from datafiles import datafile\n",
    "\n",
    "@dataclass\n",
    "class Nested:\n",
    "    alpha: bool\n",
    "    beta: bool\n",
    "\n",
    "@datafile('files/nested_dataclass.yml')\n",
    "class Sample:\n",
    "    foo: int\n",
    "    bar: Nested"
   ]
  },
  {
   "cell_type": "markdown",
   "id": "09dbe66e",
   "metadata": {
    "tags": []
   },
   "source": [
    "# Initialize a root instance"
   ]
  },
  {
   "cell_type": "code",
   "execution_count": null,
   "id": "2d3b104b",
   "metadata": {
    "tags": []
   },
   "outputs": [],
   "source": [
    "sample = Sample(42, Nested(1, 0))"
   ]
  },
  {
   "cell_type": "code",
   "execution_count": null,
   "id": "0d8f4571",
   "metadata": {
    "tags": []
   },
   "outputs": [
    {
     "name": "stdout",
     "output_type": "stream",
     "text": [
      "foo: 42\n",
      "bar:\n",
      "  alpha: true\n",
      "  beta: false\n"
     ]
    }
   ],
   "source": [
    "%%sh\n",
    "\n",
    "cat files/nested_dataclass.yml"
   ]
  },
  {
   "cell_type": "markdown",
   "id": "19fa130c",
   "metadata": {
    "tags": []
   },
   "source": [
    "# Modify the nested object"
   ]
  },
  {
   "cell_type": "code",
   "execution_count": null,
   "id": "275ad1f8",
   "metadata": {
    "tags": []
   },
   "outputs": [],
   "source": [
    "sample.bar.beta = 1"
   ]
  },
  {
   "cell_type": "markdown",
   "id": "91f02460",
   "metadata": {
    "tags": []
   },
   "source": [
    "# View modified file contents"
   ]
  },
  {
   "cell_type": "code",
   "execution_count": null,
   "id": "89876def",
   "metadata": {
    "tags": []
   },
   "outputs": [
    {
     "name": "stdout",
     "output_type": "stream",
     "text": [
      "foo: 42\n",
      "bar:\n",
      "  alpha: true\n",
      "  beta: true\n"
     ]
    }
   ],
   "source": [
    "%%sh\n",
    "\n",
    "cat files/nested_dataclass.yml"
   ]
  },
  {
   "cell_type": "code",
   "execution_count": null,
   "id": "c7e05877",
   "metadata": {
    "tags": []
   },
   "outputs": [],
   "source": []
  }
 ],
 "metadata": {
  "kernelspec": {
   "display_name": "Python 3",
   "language": "python",
   "name": "python3"
  },
  "language_info": {
   "codemirror_mode": {
    "name": "ipython",
    "version": 3
   },
   "file_extension": ".py",
   "mimetype": "text/x-python",
   "name": "python",
   "nbconvert_exporter": "python",
   "pygments_lexer": "ipython3",
   "version": "3.11.0"
  }
 },
 "nbformat": 4,
 "nbformat_minor": 5
}
