{
 "cells": [
  {
   "cell_type": "markdown",
   "metadata": {},
   "source": [
    "# Define a class"
   ]
  },
  {
   "cell_type": "code",
   "execution_count": 1,
   "metadata": {},
   "outputs": [],
   "source": [
    "%%sh\n",
    "\n",
    "rm -f files/roundtrip_comments.yml"
   ]
  },
  {
   "cell_type": "code",
   "execution_count": 2,
   "metadata": {},
   "outputs": [],
   "source": [
    "from datafiles import datafile\n",
    "\n",
    "@datafile('files/roundtrip_comments.yml')\n",
    "class Sample:\n",
    "    foo: int\n",
    "    bar: str"
   ]
  },
  {
   "cell_type": "markdown",
   "metadata": {},
   "source": [
    "# Initialize an instance"
   ]
  },
  {
   "cell_type": "code",
   "execution_count": 3,
   "metadata": {},
   "outputs": [
    {
     "name": "stderr",
     "output_type": "stream",
     "text": [
      "INFO: datafiles.managers: Saving object: Sample(foo=42, bar='Hello, world')\n",
      "INFO: datafiles.managers: Writing file: files/roundtrip_comments.yml\n"
     ]
    }
   ],
   "source": [
    "sample = Sample(42, \"Hello, world\")"
   ]
  },
  {
   "cell_type": "code",
   "execution_count": 4,
   "metadata": {},
   "outputs": [
    {
     "name": "stdout",
     "output_type": "stream",
     "text": [
      "foo: 42\n",
      "bar: Hello, world\n"
     ]
    }
   ],
   "source": [
    "%%sh\n",
    "\n",
    "cat files/roundtrip_comments.yml"
   ]
  },
  {
   "cell_type": "markdown",
   "metadata": {},
   "source": [
    "# Modify the file"
   ]
  },
  {
   "cell_type": "code",
   "execution_count": 5,
   "metadata": {},
   "outputs": [
    {
     "name": "stdout",
     "output_type": "stream",
     "text": [
      "Overwriting files/roundtrip_comments.yml\n"
     ]
    }
   ],
   "source": [
    "%%writefile files/roundtrip_comments.yml\n",
    "\n",
    "# Heading comment\n",
    "foo: 42\n",
    "    \n",
    "bar: Hello, world! # Line comment"
   ]
  },
  {
   "cell_type": "code",
   "execution_count": 6,
   "metadata": {},
   "outputs": [
    {
     "name": "stdout",
     "output_type": "stream",
     "text": [
      "\n",
      "# Heading comment\n",
      "foo: 42\n",
      "    \n",
      "bar: Hello, world! # Line comment\n"
     ]
    }
   ],
   "source": [
    "%%sh\n",
    "\n",
    "cat files/roundtrip_comments.yml"
   ]
  },
  {
   "cell_type": "markdown",
   "metadata": {},
   "source": [
    "# Modify the object"
   ]
  },
  {
   "cell_type": "code",
   "execution_count": 7,
   "metadata": {},
   "outputs": [
    {
     "name": "stderr",
     "output_type": "stream",
     "text": [
      "INFO: datafiles.managers: Reading file: files/roundtrip_comments.yml\n",
      "INFO: datafiles.managers: Loaded object: Sample(foo=42, bar='Hello, world!')\n",
      "INFO: datafiles.managers: Saving object: Sample(foo=2018, bar='Hello, world!')\n",
      "INFO: datafiles.managers: Writing file: files/roundtrip_comments.yml\n",
      "INFO: datafiles.managers: Saving object: Sample(foo=2018, bar='Hello, notebook')\n",
      "INFO: datafiles.managers: Writing file: files/roundtrip_comments.yml\n"
     ]
    }
   ],
   "source": [
    "sample.foo = 2018\n",
    "sample.bar = \"Hello, notebook\""
   ]
  },
  {
   "cell_type": "markdown",
   "metadata": {},
   "source": [
    "# View merged contents"
   ]
  },
  {
   "cell_type": "code",
   "execution_count": 8,
   "metadata": {},
   "outputs": [
    {
     "name": "stdout",
     "output_type": "stream",
     "text": [
      "# Heading comment\n",
      "foo: 2018\n",
      "\n",
      "bar: Hello, notebook # Line comment\n"
     ]
    }
   ],
   "source": [
    "%%sh\n",
    "\n",
    "cat files/roundtrip_comments.yml"
   ]
  }
 ],
 "metadata": {
  "kernelspec": {
   "display_name": "Python 3",
   "language": "python",
   "name": "python3"
  },
  "language_info": {
   "codemirror_mode": {
    "name": "ipython",
    "version": 3
   },
   "file_extension": ".py",
   "mimetype": "text/x-python",
   "name": "python",
   "nbconvert_exporter": "python",
   "pygments_lexer": "ipython3",
   "version": "3.7.1"
  }
 },
 "nbformat": 4,
 "nbformat_minor": 2
}
