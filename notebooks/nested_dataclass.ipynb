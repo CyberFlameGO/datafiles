{
 "cells": [
  {
   "cell_type": "markdown",
   "id": "fa112c9a",
   "metadata": {
    "tags": []
   },
   "source": [
    "# Define multiple classes"
   ]
  },
  {
   "cell_type": "code",
   "execution_count": null,
   "id": "87d3e501",
   "metadata": {
    "tags": []
   },
   "outputs": [],
   "source": [
    "%%sh\n",
    "\n",
    "rm -f files/nested_dataclass.yml"
   ]
  },
  {
   "cell_type": "code",
   "execution_count": null,
   "id": "8f17aace",
   "metadata": {
    "tags": []
   },
   "outputs": [],
   "source": [
    "from dataclasses import dataclass\n",
    "\n",
    "from datafiles import datafile\n",
    "\n",
    "@dataclass\n",
    "class Nested:\n",
    "    alpha: bool\n",
    "    beta: bool\n",
    "\n",
    "@datafile('files/nested_dataclass.yml')\n",
    "class Sample:\n",
    "    foo: int\n",
    "    bar: Nested"
   ]
  },
  {
   "cell_type": "markdown",
   "id": "8967031b",
   "metadata": {
    "tags": []
   },
   "source": [
    "# Initialize a root instance"
   ]
  },
  {
   "cell_type": "code",
   "execution_count": null,
   "id": "cd9d9123",
   "metadata": {
    "tags": []
   },
   "outputs": [],
   "source": [
    "sample = Sample(42, Nested(1, 0))"
   ]
  },
  {
   "cell_type": "code",
   "execution_count": null,
   "id": "4e93a7bb",
   "metadata": {
    "tags": []
   },
   "outputs": [
    {
     "name": "stdout",
     "output_type": "stream",
     "text": [
      "foo: 42\n",
      "bar:\n",
      "  alpha: true\n",
      "  beta: false\n"
     ]
    }
   ],
   "source": [
    "%%sh\n",
    "\n",
    "cat files/nested_dataclass.yml"
   ]
  },
  {
   "cell_type": "markdown",
   "id": "233e6865",
   "metadata": {
    "tags": []
   },
   "source": [
    "# Modify the nested object"
   ]
  },
  {
   "cell_type": "code",
   "execution_count": null,
   "id": "fdbdefa5",
   "metadata": {
    "tags": []
   },
   "outputs": [],
   "source": [
    "sample.bar.beta = 1"
   ]
  },
  {
   "cell_type": "markdown",
   "id": "327d9cd1",
   "metadata": {
    "tags": []
   },
   "source": [
    "# View modified file contents"
   ]
  },
  {
   "cell_type": "code",
   "execution_count": null,
   "id": "04ed3124",
   "metadata": {
    "tags": []
   },
   "outputs": [
    {
     "name": "stdout",
     "output_type": "stream",
     "text": [
      "foo: 42\n",
      "bar:\n",
      "  alpha: true\n",
      "  beta: true\n"
     ]
    }
   ],
   "source": [
    "%%sh\n",
    "\n",
    "cat files/nested_dataclass.yml"
   ]
  },
  {
   "cell_type": "code",
   "execution_count": null,
   "id": "288b02d6",
   "metadata": {
    "tags": []
   },
   "outputs": [],
   "source": []
  }
 ],
 "metadata": {
  "kernelspec": {
   "display_name": "Python 3",
   "language": "python",
   "name": "python3"
  },
  "language_info": {
   "codemirror_mode": {
    "name": "ipython",
    "version": 3
   },
   "file_extension": ".py",
   "mimetype": "text/x-python",
   "name": "python",
   "nbconvert_exporter": "python",
   "pygments_lexer": "ipython3",
   "version": "3.9.7"
  }
 },
 "nbformat": 4,
 "nbformat_minor": 5
}
