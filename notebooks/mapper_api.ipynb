{
 "cells": [
  {
   "cell_type": "code",
   "execution_count": null,
   "id": "7e422ca4",
   "metadata": {
    "tags": []
   },
   "outputs": [],
   "source": [
    "%%sh\n",
    "\n",
    "rm -rf my_models"
   ]
  },
  {
   "cell_type": "code",
   "execution_count": null,
   "id": "43c6c3c9",
   "metadata": {
    "tags": []
   },
   "outputs": [],
   "source": [
    "from datafiles import datafile\n",
    "\n",
    "@datafile(\"my_models/{self.my_key}.yml\", manual=True)\n",
    "class MyModel:\n",
    "\n",
    "    my_key: str\n",
    "    my_value: int = 1"
   ]
  },
  {
   "cell_type": "code",
   "execution_count": null,
   "id": "18ee2705",
   "metadata": {
    "tags": []
   },
   "outputs": [],
   "source": [
    "model = MyModel('foo')"
   ]
  },
  {
   "cell_type": "code",
   "execution_count": null,
   "id": "dc1f6a87",
   "metadata": {
    "tags": []
   },
   "outputs": [
    {
     "data": {
      "text/plain": [
       "1"
      ]
     },
     "execution_count": null,
     "metadata": {},
     "output_type": "execute_result"
    }
   ],
   "source": [
    "model.my_value"
   ]
  },
  {
   "cell_type": "markdown",
   "id": "4637b4a9",
   "metadata": {
    "tags": []
   },
   "source": [
    "# `path`"
   ]
  },
  {
   "cell_type": "code",
   "execution_count": null,
   "id": "805c1fb8",
   "metadata": {
    "tags": []
   },
   "outputs": [
    {
     "data": {
      "text/plain": [
       "PosixPath('/Users/Browning/Code/datafiles/notebooks/my_models/foo.yml')"
      ]
     },
     "execution_count": null,
     "metadata": {},
     "output_type": "execute_result"
    }
   ],
   "source": [
    "model.datafile.path"
   ]
  },
  {
   "cell_type": "markdown",
   "id": "399de3c8",
   "metadata": {
    "tags": []
   },
   "source": [
    "# `exists`"
   ]
  },
  {
   "cell_type": "code",
   "execution_count": null,
   "id": "9137925c",
   "metadata": {
    "tags": []
   },
   "outputs": [
    {
     "data": {
      "text/plain": [
       "False"
      ]
     },
     "execution_count": null,
     "metadata": {},
     "output_type": "execute_result"
    }
   ],
   "source": [
    "model.datafile.exists"
   ]
  },
  {
   "cell_type": "markdown",
   "id": "78637695",
   "metadata": {
    "tags": []
   },
   "source": [
    "# `save()`"
   ]
  },
  {
   "cell_type": "code",
   "execution_count": null,
   "id": "05c0ebcb",
   "metadata": {
    "tags": []
   },
   "outputs": [],
   "source": [
    "model.datafile.save()"
   ]
  },
  {
   "cell_type": "code",
   "execution_count": null,
   "id": "f2a3fd35",
   "metadata": {
    "tags": []
   },
   "outputs": [
    {
     "data": {
      "text/plain": [
       "True"
      ]
     },
     "execution_count": null,
     "metadata": {},
     "output_type": "execute_result"
    }
   ],
   "source": [
    "model.datafile.exists"
   ]
  },
  {
   "cell_type": "markdown",
   "id": "a4f2d6fb",
   "metadata": {
    "tags": []
   },
   "source": [
    "# `modified`"
   ]
  },
  {
   "cell_type": "code",
   "execution_count": null,
   "id": "fadc6171",
   "metadata": {
    "tags": []
   },
   "outputs": [
    {
     "data": {
      "text/plain": [
       "False"
      ]
     },
     "execution_count": null,
     "metadata": {},
     "output_type": "execute_result"
    }
   ],
   "source": [
    "model.datafile.modified"
   ]
  },
  {
   "cell_type": "code",
   "execution_count": null,
   "id": "b851423b",
   "metadata": {
    "tags": []
   },
   "outputs": [
    {
     "name": "stdout",
     "output_type": "stream",
     "text": [
      "Overwriting my_models/foo.yml\n"
     ]
    }
   ],
   "source": [
    "%%writefile my_models/foo.yml\n",
    "\n",
    "my_value: 42"
   ]
  },
  {
   "cell_type": "code",
   "execution_count": null,
   "id": "65263f11",
   "metadata": {
    "tags": []
   },
   "outputs": [
    {
     "data": {
      "text/plain": [
       "True"
      ]
     },
     "execution_count": null,
     "metadata": {},
     "output_type": "execute_result"
    }
   ],
   "source": [
    "model.datafile.modified"
   ]
  },
  {
   "cell_type": "markdown",
   "id": "b84dd7b3",
   "metadata": {
    "tags": []
   },
   "source": [
    "# `load()`"
   ]
  },
  {
   "cell_type": "code",
   "execution_count": null,
   "id": "a64ca174",
   "metadata": {
    "tags": []
   },
   "outputs": [],
   "source": [
    "model.datafile.load()"
   ]
  },
  {
   "cell_type": "markdown",
   "id": "2b830cef",
   "metadata": {
    "tags": []
   },
   "source": [
    "# `data`"
   ]
  },
  {
   "cell_type": "code",
   "execution_count": null,
   "id": "04d72f6c",
   "metadata": {
    "tags": []
   },
   "outputs": [
    {
     "data": {
      "text/plain": [
       "ordereddict([('my_value', 42)])"
      ]
     },
     "execution_count": null,
     "metadata": {},
     "output_type": "execute_result"
    }
   ],
   "source": [
    "model.datafile.data"
   ]
  }
 ],
 "metadata": {
  "kernelspec": {
   "display_name": "Python 3",
   "language": "python",
   "name": "python3"
  },
  "language_info": {
   "codemirror_mode": {
    "name": "ipython",
    "version": 3
   },
   "file_extension": ".py",
   "mimetype": "text/x-python",
   "name": "python",
   "nbconvert_exporter": "python",
   "pygments_lexer": "ipython3",
   "version": "3.9.2"
  }
 },
 "nbformat": 4,
 "nbformat_minor": 5
}
