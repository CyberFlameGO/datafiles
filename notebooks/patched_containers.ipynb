{
 "cells": [
  {
   "cell_type": "code",
   "execution_count": null,
   "id": "e5fc6c84",
   "metadata": {
    "tags": []
   },
   "outputs": [],
   "source": [
    "%%sh\n",
    "\n",
    "rm -f files/patched_containers.yml"
   ]
  },
  {
   "cell_type": "code",
   "execution_count": null,
   "id": "332ac8dc",
   "metadata": {
    "tags": []
   },
   "outputs": [
    {
     "name": "stderr",
     "output_type": "stream",
     "text": [
      "Schema enforcement not possible with 'Dict' annotation\n"
     ]
    }
   ],
   "source": [
    "from typing import List, Dict\n",
    "\n",
    "from datafiles import datafile, field\n",
    "\n",
    "@datafile('files/patched_containers.yml')\n",
    "class Sample:\n",
    "    items: List[float] = field(default_factory=list)\n",
    "    data: Dict[str, int] = field(default_factory=dict)\n",
    "        \n",
    "sample = Sample()"
   ]
  },
  {
   "cell_type": "markdown",
   "id": "ca266820",
   "metadata": {
    "tags": []
   },
   "source": [
    "# Lists"
   ]
  },
  {
   "cell_type": "code",
   "execution_count": null,
   "id": "3a4306ac",
   "metadata": {
    "tags": []
   },
   "outputs": [],
   "source": [
    "sample.items.append(1)\n",
    "sample.items.append(2.3)"
   ]
  },
  {
   "cell_type": "code",
   "execution_count": null,
   "id": "aba57ff8",
   "metadata": {
    "tags": []
   },
   "outputs": [
    {
     "name": "stdout",
     "output_type": "stream",
     "text": [
      "items:\n",
      "  - 1.0\n",
      "  - 2.3\n"
     ]
    }
   ],
   "source": [
    "%%sh\n",
    "\n",
    "cat files/patched_containers.yml"
   ]
  },
  {
   "cell_type": "code",
   "execution_count": null,
   "id": "0c5264c2",
   "metadata": {
    "tags": []
   },
   "outputs": [],
   "source": [
    "sample.items.insert(0, 4)"
   ]
  },
  {
   "cell_type": "code",
   "execution_count": null,
   "id": "3893b837",
   "metadata": {
    "tags": []
   },
   "outputs": [
    {
     "name": "stdout",
     "output_type": "stream",
     "text": [
      "items:\n",
      "  - 4.0\n",
      "  - 1.0\n",
      "  - 2.3\n"
     ]
    }
   ],
   "source": [
    "%%sh\n",
    "\n",
    "cat files/patched_containers.yml"
   ]
  },
  {
   "cell_type": "code",
   "execution_count": null,
   "id": "636b4a79",
   "metadata": {
    "tags": []
   },
   "outputs": [],
   "source": [
    "sample.items.remove(1.0)"
   ]
  },
  {
   "cell_type": "code",
   "execution_count": null,
   "id": "fda1d953",
   "metadata": {
    "tags": []
   },
   "outputs": [
    {
     "name": "stdout",
     "output_type": "stream",
     "text": [
      "items:\n",
      "  - 4.0\n",
      "  - 2.3\n"
     ]
    }
   ],
   "source": [
    "%%sh\n",
    "\n",
    "cat files/patched_containers.yml"
   ]
  },
  {
   "cell_type": "markdown",
   "id": "ed0e123b",
   "metadata": {
    "tags": []
   },
   "source": [
    "# Dictionaries"
   ]
  },
  {
   "cell_type": "code",
   "execution_count": null,
   "id": "134e00d4",
   "metadata": {
    "tags": []
   },
   "outputs": [],
   "source": [
    "sample.data.update(a=1, b=2)"
   ]
  },
  {
   "cell_type": "code",
   "execution_count": null,
   "id": "622ca5e1",
   "metadata": {
    "tags": []
   },
   "outputs": [
    {
     "name": "stdout",
     "output_type": "stream",
     "text": [
      "items:\n",
      "  - 4.0\n",
      "  - 2.3\n",
      "data:\n",
      "  a: 1\n",
      "  b: 2\n"
     ]
    }
   ],
   "source": [
    "%%sh\n",
    "\n",
    "cat files/patched_containers.yml"
   ]
  },
  {
   "cell_type": "code",
   "execution_count": null,
   "id": "e01ad5ad",
   "metadata": {
    "tags": []
   },
   "outputs": [],
   "source": [
    "sample.data['c'] = 3"
   ]
  },
  {
   "cell_type": "code",
   "execution_count": null,
   "id": "520c7280",
   "metadata": {
    "tags": []
   },
   "outputs": [
    {
     "name": "stdout",
     "output_type": "stream",
     "text": [
      "items:\n",
      "  - 4.0\n",
      "  - 2.3\n",
      "data:\n",
      "  a: 1\n",
      "  b: 2\n",
      "  c: 3\n"
     ]
    }
   ],
   "source": [
    "%%sh\n",
    "\n",
    "cat files/patched_containers.yml"
   ]
  },
  {
   "cell_type": "code",
   "execution_count": null,
   "id": "16d5bf48",
   "metadata": {
    "tags": []
   },
   "outputs": [
    {
     "data": {
      "text/plain": [
       "2"
      ]
     },
     "execution_count": null,
     "metadata": {},
     "output_type": "execute_result"
    }
   ],
   "source": [
    "sample.data.pop('b')"
   ]
  },
  {
   "cell_type": "code",
   "execution_count": null,
   "id": "0bf4f4dc",
   "metadata": {
    "tags": []
   },
   "outputs": [
    {
     "name": "stdout",
     "output_type": "stream",
     "text": [
      "items:\n",
      "  - 4.0\n",
      "  - 2.3\n",
      "data:\n",
      "  a: 1\n",
      "  c: 3\n"
     ]
    }
   ],
   "source": [
    "%%sh\n",
    "\n",
    "cat files/patched_containers.yml"
   ]
  },
  {
   "cell_type": "code",
   "execution_count": null,
   "id": "91edd64e",
   "metadata": {
    "tags": []
   },
   "outputs": [],
   "source": []
  }
 ],
 "metadata": {
  "kernelspec": {
   "display_name": "Python 3",
   "language": "python",
   "name": "python3"
  },
  "language_info": {
   "codemirror_mode": {
    "name": "ipython",
    "version": 3
   },
   "file_extension": ".py",
   "mimetype": "text/x-python",
   "name": "python",
   "nbconvert_exporter": "python",
   "pygments_lexer": "ipython3",
   "version": "3.9.7"
  }
 },
 "nbformat": 4,
 "nbformat_minor": 5
}
