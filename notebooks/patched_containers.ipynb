{
 "cells": [
  {
   "cell_type": "code",
   "execution_count": 15,
   "metadata": {},
   "outputs": [],
   "source": [
    "%%sh\n",
    "rm -f patched_containers.yml"
   ]
  },
  {
   "cell_type": "code",
   "execution_count": 16,
   "metadata": {},
   "outputs": [
    {
     "name": "stderr",
     "output_type": "stream",
     "text": [
      "INFO: datafiles.managers: Saving data for object: Sample(items=[])\n",
      "INFO: datafiles.managers: Serialized data to text (.yml): ''\n",
      "INFO: datafiles.managers: Writing: /Users/Browning/Documents/datafiles/notebooks/patched_containers.yml\n"
     ]
    }
   ],
   "source": [
    "from dataclasses import dataclass\n",
    "from typing import List\n",
    "\n",
    "from datafiles import sync, field\n",
    "\n",
    "@sync('patched_containers.yml')\n",
    "@dataclass\n",
    "class Sample:\n",
    "    items: List[float] = field(default_factory=list)\n",
    "        \n",
    "sample = Sample()"
   ]
  },
  {
   "cell_type": "markdown",
   "metadata": {},
   "source": [
    "# Append items"
   ]
  },
  {
   "cell_type": "code",
   "execution_count": 17,
   "metadata": {},
   "outputs": [
    {
     "name": "stderr",
     "output_type": "stream",
     "text": [
      "INFO: datafiles.managers: Saving data for object: Sample(items=[1])\n",
      "INFO: datafiles.managers: Serialized data to text (.yml): 'items:\\n- 1.0\\n'\n",
      "INFO: datafiles.managers: Writing: /Users/Browning/Documents/datafiles/notebooks/patched_containers.yml\n",
      "INFO: datafiles.managers: Saving data for object: Sample(items=[1, 2.3])\n",
      "INFO: datafiles.managers: Serialized data to text (.yml): 'items:\\n- 1.0\\n- 2.3\\n'\n",
      "INFO: datafiles.managers: Writing: /Users/Browning/Documents/datafiles/notebooks/patched_containers.yml\n",
      "INFO: datafiles.managers: Serialized data to text (.yml): 'items:\\n- 1.0\\n- 2.3\\n'\n"
     ]
    },
    {
     "name": "stdout",
     "output_type": "stream",
     "text": [
      "items:\n",
      "- 1.0\n",
      "- 2.3\n",
      "\n"
     ]
    }
   ],
   "source": [
    "sample.items.append(1)\n",
    "sample.items.append(2.3)\n",
    "\n",
    "print(sample.datafile.text)"
   ]
  },
  {
   "cell_type": "markdown",
   "metadata": {},
   "source": [
    "# Insert items"
   ]
  },
  {
   "cell_type": "code",
   "execution_count": 18,
   "metadata": {},
   "outputs": [
    {
     "name": "stderr",
     "output_type": "stream",
     "text": [
      "INFO: datafiles.managers: Saving data for object: Sample(items=[4, 1, 2.3])\n",
      "INFO: datafiles.managers: Serialized data to text (.yml): 'items:\\n- 4.0\\n- 1.0\\n- 2.3\\n'\n",
      "INFO: datafiles.managers: Writing: /Users/Browning/Documents/datafiles/notebooks/patched_containers.yml\n",
      "INFO: datafiles.managers: Serialized data to text (.yml): 'items:\\n- 4.0\\n- 1.0\\n- 2.3\\n'\n"
     ]
    },
    {
     "name": "stdout",
     "output_type": "stream",
     "text": [
      "items:\n",
      "- 4.0\n",
      "- 1.0\n",
      "- 2.3\n",
      "\n"
     ]
    }
   ],
   "source": [
    "sample.items.insert(0, 4)\n",
    "\n",
    "print(sample.datafile.text)"
   ]
  },
  {
   "cell_type": "markdown",
   "metadata": {},
   "source": [
    "# Remove items"
   ]
  },
  {
   "cell_type": "code",
   "execution_count": 19,
   "metadata": {},
   "outputs": [
    {
     "name": "stderr",
     "output_type": "stream",
     "text": [
      "INFO: datafiles.managers: Saving data for object: Sample(items=[4, 2.3])\n",
      "INFO: datafiles.managers: Serialized data to text (.yml): 'items:\\n- 4.0\\n- 2.3\\n'\n",
      "INFO: datafiles.managers: Writing: /Users/Browning/Documents/datafiles/notebooks/patched_containers.yml\n",
      "INFO: datafiles.managers: Serialized data to text (.yml): 'items:\\n- 4.0\\n- 2.3\\n'\n"
     ]
    },
    {
     "name": "stdout",
     "output_type": "stream",
     "text": [
      "items:\n",
      "- 4.0\n",
      "- 2.3\n",
      "\n"
     ]
    }
   ],
   "source": [
    "sample.items.remove(1.0)\n",
    "\n",
    "print(sample.datafile.text)"
   ]
  }
 ],
 "metadata": {
  "kernelspec": {
   "display_name": "Python 3",
   "language": "python",
   "name": "python3"
  },
  "language_info": {
   "codemirror_mode": {
    "name": "ipython",
    "version": 3
   },
   "file_extension": ".py",
   "mimetype": "text/x-python",
   "name": "python",
   "nbconvert_exporter": "python",
   "pygments_lexer": "ipython3",
   "version": "3.7.1"
  }
 },
 "nbformat": 4,
 "nbformat_minor": 2
}
