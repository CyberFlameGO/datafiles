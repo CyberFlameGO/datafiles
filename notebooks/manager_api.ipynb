{
 "cells": [
  {
   "cell_type": "code",
   "execution_count": null,
   "id": "b8bcf53e",
   "metadata": {
    "tags": []
   },
   "outputs": [],
   "source": [
    "%%sh\n",
    "\n",
    "rm -rf my_models"
   ]
  },
  {
   "cell_type": "code",
   "execution_count": null,
   "id": "356432ac",
   "metadata": {
    "tags": []
   },
   "outputs": [],
   "source": [
    "from datafiles import datafile\n",
    "\n",
    "@datafile(\"my_models/{self.my_key}.yml\")\n",
    "class MyModel:\n",
    "\n",
    "    my_key: str\n",
    "    my_value: int = 0"
   ]
  },
  {
   "cell_type": "code",
   "execution_count": null,
   "id": "1bb4584c",
   "metadata": {
    "tags": []
   },
   "outputs": [
    {
     "data": {
      "text/plain": [
       "MyModel(my_key='foo', my_value=0)"
      ]
     },
     "execution_count": null,
     "metadata": {},
     "output_type": "execute_result"
    }
   ],
   "source": [
    "MyModel('foo')"
   ]
  },
  {
   "cell_type": "markdown",
   "id": "7ec4794d",
   "metadata": {
    "tags": []
   },
   "source": [
    "# `get_or_none(*args, **kwargs)`"
   ]
  },
  {
   "cell_type": "code",
   "execution_count": null,
   "id": "68a3211d",
   "metadata": {
    "tags": []
   },
   "outputs": [
    {
     "data": {
      "text/plain": [
       "MyModel(my_key='foo', my_value=0)"
      ]
     },
     "execution_count": null,
     "metadata": {},
     "output_type": "execute_result"
    }
   ],
   "source": [
    "MyModel.objects.get_or_none('foo')"
   ]
  },
  {
   "cell_type": "code",
   "execution_count": null,
   "id": "c1bc8feb",
   "metadata": {
    "tags": []
   },
   "outputs": [],
   "source": [
    "item = MyModel.objects.get_or_none('bar')\n",
    "\n",
    "assert item is None"
   ]
  },
  {
   "cell_type": "markdown",
   "id": "4c8a588d",
   "metadata": {
    "tags": []
   },
   "source": [
    "# `get_or_create(*args, **kwags)`"
   ]
  },
  {
   "cell_type": "code",
   "execution_count": null,
   "id": "fcb345c6",
   "metadata": {
    "tags": []
   },
   "outputs": [
    {
     "data": {
      "text/plain": [
       "MyModel(my_key='bar', my_value=42)"
      ]
     },
     "execution_count": null,
     "metadata": {},
     "output_type": "execute_result"
    }
   ],
   "source": [
    "MyModel.objects.get_or_create('bar', 42)"
   ]
  },
  {
   "cell_type": "code",
   "execution_count": null,
   "id": "869dea11",
   "metadata": {
    "tags": []
   },
   "outputs": [
    {
     "data": {
      "text/plain": [
       "MyModel(my_key='bar', my_value=42)"
      ]
     },
     "execution_count": null,
     "metadata": {},
     "output_type": "execute_result"
    }
   ],
   "source": [
    "MyModel.objects.get_or_create('bar')"
   ]
  },
  {
   "cell_type": "markdown",
   "id": "8b6b3b4e",
   "metadata": {
    "tags": []
   },
   "source": [
    "# `all()`"
   ]
  },
  {
   "cell_type": "code",
   "execution_count": null,
   "id": "bf72f570",
   "metadata": {
    "tags": []
   },
   "outputs": [
    {
     "data": {
      "text/plain": [
       "[MyModel(my_key='foo', my_value=0), MyModel(my_key='bar', my_value=42)]"
      ]
     },
     "execution_count": null,
     "metadata": {},
     "output_type": "execute_result"
    }
   ],
   "source": [
    "generator = MyModel.objects.all()\n",
    "\n",
    "list(generator)"
   ]
  },
  {
   "cell_type": "markdown",
   "id": "0a9d6d5b",
   "metadata": {
    "tags": []
   },
   "source": [
    "# `filter(**kwargs)`"
   ]
  },
  {
   "cell_type": "code",
   "execution_count": null,
   "id": "529bb3cb",
   "metadata": {
    "tags": []
   },
   "outputs": [
    {
     "data": {
      "text/plain": [
       "[MyModel(my_key='bar', my_value=42)]"
      ]
     },
     "execution_count": null,
     "metadata": {},
     "output_type": "execute_result"
    }
   ],
   "source": [
    "generator = MyModel.objects.filter(my_value=42)\n",
    "\n",
    "list(generator)"
   ]
  }
 ],
 "metadata": {
  "kernelspec": {
   "display_name": "Python 3",
   "language": "python",
   "name": "python3"
  },
  "language_info": {
   "codemirror_mode": {
    "name": "ipython",
    "version": 3
   },
   "file_extension": ".py",
   "mimetype": "text/x-python",
   "name": "python",
   "nbconvert_exporter": "python",
   "pygments_lexer": "ipython3",
   "version": "3.10.0"
  }
 },
 "nbformat": 4,
 "nbformat_minor": 5
}
