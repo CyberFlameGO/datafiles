{
 "cells": [
  {
   "cell_type": "markdown",
   "id": "fcdb0d2b",
   "metadata": {
    "tags": []
   },
   "source": [
    "# Simple"
   ]
  },
  {
   "cell_type": "code",
   "execution_count": null,
   "id": "b1284aa4",
   "metadata": {
    "tags": []
   },
   "outputs": [
    {
     "name": "stdout",
     "output_type": "stream",
     "text": [
      "Overwriting files/sample.yml\n"
     ]
    }
   ],
   "source": [
    "%%writefile files/sample.yml\n",
    "\n",
    "names:\n",
    "- Alice\n",
    "- Bob\n",
    "numbers:\n",
    "- 1\n",
    "- 2"
   ]
  },
  {
   "cell_type": "code",
   "execution_count": null,
   "id": "7b5e58ce",
   "metadata": {
    "tags": []
   },
   "outputs": [
    {
     "data": {
      "text/plain": [
       "['Alice', 'Bob']"
      ]
     },
     "execution_count": null,
     "metadata": {},
     "output_type": "execute_result"
    }
   ],
   "source": [
    "from datafiles import auto\n",
    "\n",
    "sample = auto('files/sample.yml')\n",
    "\n",
    "sample.names"
   ]
  },
  {
   "cell_type": "code",
   "execution_count": null,
   "id": "ea45da52",
   "metadata": {
    "tags": []
   },
   "outputs": [],
   "source": [
    "sample.numbers.append(3)"
   ]
  },
  {
   "cell_type": "code",
   "execution_count": null,
   "id": "1e578f6a",
   "metadata": {
    "tags": []
   },
   "outputs": [
    {
     "name": "stdout",
     "output_type": "stream",
     "text": [
      "names:\n",
      "  - Alice\n",
      "  - Bob\n",
      "numbers:\n",
      "  - 1\n",
      "  - 2\n",
      "  - 3\n"
     ]
    }
   ],
   "source": [
    "%%sh\n",
    "\n",
    "cat files/sample.yml"
   ]
  },
  {
   "cell_type": "markdown",
   "id": "9faf4b33",
   "metadata": {
    "tags": []
   },
   "source": [
    "# Complex"
   ]
  },
  {
   "cell_type": "code",
   "execution_count": null,
   "id": "ca59506a",
   "metadata": {
    "tags": []
   },
   "outputs": [
    {
     "name": "stdout",
     "output_type": "stream",
     "text": [
      "dist: focal\n",
      "\n",
      "language: python\n",
      "python:\n",
      "  - \"3.7\"\n",
      "  - \"3.8\"\n",
      "  - \"3.9\"\n",
      "  - \"3.10.0\"\n",
      "\n",
      "cache:\n",
      "  pip: true\n",
      "  directories:\n",
      "    - ${VIRTUAL_ENV}\n",
      "\n",
      "before_install:\n",
      "  - curl -sSL https://raw.githubusercontent.com/python-poetry/poetry/master/install-poetry.py | python -\n",
      "  - make doctor\n",
      "\n",
      "install:\n",
      "  - make install\n",
      "\n",
      "script:\n",
      "  - make test-repeat\n",
      "  - make check\n",
      "  # TODO: Get targets working with Python 3.10\n",
      "  # - make notebooks\n",
      "  # - make mkdocs\n",
      "\n",
      "after_success:\n",
      "  - pip install coveralls\n",
      "  - coveralls\n",
      "\n",
      "notifications:\n",
      "  email:\n",
      "    on_success: never\n",
      "    on_failure: never\n"
     ]
    }
   ],
   "source": [
    "%%sh\n",
    "\n",
    "cp -f ../.travis.yml files/travis.yml\n",
    "\n",
    "cat files/travis.yml"
   ]
  },
  {
   "cell_type": "code",
   "execution_count": null,
   "id": "47e4299e",
   "metadata": {
    "tags": []
   },
   "outputs": [],
   "source": [
    "from datafiles import auto\n",
    "\n",
    "travis = auto(\"files/travis.yml\")"
   ]
  },
  {
   "cell_type": "code",
   "execution_count": null,
   "id": "59e2ec70",
   "metadata": {
    "tags": []
   },
   "outputs": [],
   "source": [
    "travis.install.append(\"echo 123 # <= This line is new\")"
   ]
  },
  {
   "cell_type": "code",
   "execution_count": null,
   "id": "c6bcda4c",
   "metadata": {
    "tags": []
   },
   "outputs": [
    {
     "name": "stdout",
     "output_type": "stream",
     "text": [
      "dist: focal\n",
      "\n",
      "language: python\n",
      "python:\n",
      "  - '3.7'\n",
      "  - '3.8'\n",
      "  - '3.9'\n",
      "  - 3.10.0\n",
      "cache:\n",
      "  pip: true\n",
      "  directories:\n",
      "    - ${VIRTUAL_ENV}\n",
      "\n",
      "before_install:\n",
      "  - curl -sSL https://raw.githubusercontent.com/python-poetry/poetry/master/install-poetry.py\n",
      "    | python -\n",
      "  - make doctor\n",
      "install:\n",
      "  - make install\n",
      "  - 'echo 123 # <= This line is new'\n",
      "script:\n",
      "  - make test-repeat\n",
      "  - make check\n",
      "after_success:\n",
      "  - pip install coveralls\n",
      "  - coveralls\n",
      "notifications:\n",
      "  email:\n",
      "    on_success: never\n",
      "    on_failure: never\n"
     ]
    }
   ],
   "source": [
    "%%sh\n",
    "\n",
    "cat files/travis.yml"
   ]
  }
 ],
 "metadata": {
  "kernelspec": {
   "display_name": "Python 3",
   "language": "python",
   "name": "python3"
  },
  "language_info": {
   "codemirror_mode": {
    "name": "ipython",
    "version": 3
   },
   "file_extension": ".py",
   "mimetype": "text/x-python",
   "name": "python",
   "nbconvert_exporter": "python",
   "pygments_lexer": "ipython3",
   "version": "3.9.7"
  }
 },
 "nbformat": 4,
 "nbformat_minor": 5
}
