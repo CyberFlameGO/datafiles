{
 "cells": [
  {
   "cell_type": "code",
   "execution_count": null,
   "id": "09765470",
   "metadata": {
    "tags": []
   },
   "outputs": [],
   "source": [
    "%%sh\n",
    "\n",
    "rm -f files/patched_containers.yml"
   ]
  },
  {
   "cell_type": "code",
   "execution_count": null,
   "id": "0e4b8e6f",
   "metadata": {
    "tags": []
   },
   "outputs": [
    {
     "name": "stderr",
     "output_type": "stream",
     "text": [
      "Schema enforcement not possible with 'Dict' annotation\n"
     ]
    }
   ],
   "source": [
    "from typing import List, Dict\n",
    "\n",
    "from datafiles import datafile, field\n",
    "\n",
    "@datafile('files/patched_containers.yml')\n",
    "class Sample:\n",
    "    items: List[float] = field(default_factory=list)\n",
    "    data: Dict[str, int] = field(default_factory=dict)\n",
    "        \n",
    "sample = Sample()"
   ]
  },
  {
   "cell_type": "markdown",
   "id": "f83f85f3",
   "metadata": {
    "tags": []
   },
   "source": [
    "# Lists"
   ]
  },
  {
   "cell_type": "code",
   "execution_count": null,
   "id": "6e796621",
   "metadata": {
    "tags": []
   },
   "outputs": [],
   "source": [
    "sample.items.append(1)\n",
    "sample.items.append(2.3)"
   ]
  },
  {
   "cell_type": "code",
   "execution_count": null,
   "id": "7d8aea01",
   "metadata": {
    "tags": []
   },
   "outputs": [
    {
     "name": "stdout",
     "output_type": "stream",
     "text": [
      "items:\n",
      "  - 1.0\n",
      "  - 2.3\n"
     ]
    }
   ],
   "source": [
    "%%sh\n",
    "\n",
    "cat files/patched_containers.yml"
   ]
  },
  {
   "cell_type": "code",
   "execution_count": null,
   "id": "f8ae0a72",
   "metadata": {
    "tags": []
   },
   "outputs": [],
   "source": [
    "sample.items.insert(0, 4)"
   ]
  },
  {
   "cell_type": "code",
   "execution_count": null,
   "id": "360a5197",
   "metadata": {
    "tags": []
   },
   "outputs": [
    {
     "name": "stdout",
     "output_type": "stream",
     "text": [
      "items:\n",
      "  - 4.0\n",
      "  - 1.0\n",
      "  - 2.3\n"
     ]
    }
   ],
   "source": [
    "%%sh\n",
    "\n",
    "cat files/patched_containers.yml"
   ]
  },
  {
   "cell_type": "code",
   "execution_count": null,
   "id": "1e0506cb",
   "metadata": {
    "tags": []
   },
   "outputs": [],
   "source": [
    "sample.items.remove(1.0)"
   ]
  },
  {
   "cell_type": "code",
   "execution_count": null,
   "id": "5c47b70c",
   "metadata": {
    "tags": []
   },
   "outputs": [
    {
     "name": "stdout",
     "output_type": "stream",
     "text": [
      "items:\n",
      "  - 4.0\n",
      "  - 2.3\n"
     ]
    }
   ],
   "source": [
    "%%sh\n",
    "\n",
    "cat files/patched_containers.yml"
   ]
  },
  {
   "cell_type": "markdown",
   "id": "81fb0ca7",
   "metadata": {
    "tags": []
   },
   "source": [
    "# Dictionaries"
   ]
  },
  {
   "cell_type": "code",
   "execution_count": null,
   "id": "55fc01e6",
   "metadata": {
    "tags": []
   },
   "outputs": [],
   "source": [
    "sample.data.update(a=1, b=2)"
   ]
  },
  {
   "cell_type": "code",
   "execution_count": null,
   "id": "e9c99c93",
   "metadata": {
    "tags": []
   },
   "outputs": [
    {
     "name": "stdout",
     "output_type": "stream",
     "text": [
      "items:\n",
      "  - 4.0\n",
      "  - 2.3\n",
      "data:\n",
      "  a: 1\n",
      "  b: 2\n"
     ]
    }
   ],
   "source": [
    "%%sh\n",
    "\n",
    "cat files/patched_containers.yml"
   ]
  },
  {
   "cell_type": "code",
   "execution_count": null,
   "id": "60f612d3",
   "metadata": {
    "tags": []
   },
   "outputs": [],
   "source": [
    "sample.data['c'] = 3"
   ]
  },
  {
   "cell_type": "code",
   "execution_count": null,
   "id": "3960fb27",
   "metadata": {
    "tags": []
   },
   "outputs": [
    {
     "name": "stdout",
     "output_type": "stream",
     "text": [
      "items:\n",
      "  - 4.0\n",
      "  - 2.3\n",
      "data:\n",
      "  a: 1\n",
      "  b: 2\n",
      "  c: 3\n"
     ]
    }
   ],
   "source": [
    "%%sh\n",
    "\n",
    "cat files/patched_containers.yml"
   ]
  },
  {
   "cell_type": "code",
   "execution_count": null,
   "id": "fd463ce6",
   "metadata": {
    "tags": []
   },
   "outputs": [
    {
     "data": {
      "text/plain": [
       "2"
      ]
     },
     "execution_count": null,
     "metadata": {},
     "output_type": "execute_result"
    }
   ],
   "source": [
    "sample.data.pop('b')"
   ]
  },
  {
   "cell_type": "code",
   "execution_count": null,
   "id": "cccbbf79",
   "metadata": {
    "tags": []
   },
   "outputs": [
    {
     "name": "stdout",
     "output_type": "stream",
     "text": [
      "items:\n",
      "  - 4.0\n",
      "  - 2.3\n",
      "data:\n",
      "  a: 1\n",
      "  c: 3\n"
     ]
    }
   ],
   "source": [
    "%%sh\n",
    "\n",
    "cat files/patched_containers.yml"
   ]
  },
  {
   "cell_type": "code",
   "execution_count": null,
   "id": "d56668f2",
   "metadata": {
    "tags": []
   },
   "outputs": [],
   "source": []
  }
 ],
 "metadata": {
  "kernelspec": {
   "display_name": "Python 3",
   "language": "python",
   "name": "python3"
  },
  "language_info": {
   "codemirror_mode": {
    "name": "ipython",
    "version": 3
   },
   "file_extension": ".py",
   "mimetype": "text/x-python",
   "name": "python",
   "nbconvert_exporter": "python",
   "pygments_lexer": "ipython3",
   "version": "3.9.7"
  }
 },
 "nbformat": 4,
 "nbformat_minor": 5
}
