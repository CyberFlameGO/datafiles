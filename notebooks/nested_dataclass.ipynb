{
 "cells": [
  {
   "cell_type": "markdown",
   "metadata": {},
   "source": [
    "# Define multiple classes"
   ]
  },
  {
   "cell_type": "code",
   "execution_count": 1,
   "metadata": {},
   "outputs": [],
   "source": [
    "%%sh\n",
    "\n",
    "rm -f files/nested_values.yml"
   ]
  },
  {
   "cell_type": "code",
   "execution_count": 2,
   "metadata": {},
   "outputs": [],
   "source": [
    "from dataclasses import dataclass\n",
    "\n",
    "from datafiles import sync\n",
    "\n",
    "@dataclass\n",
    "class Nested:\n",
    "    alpha: bool\n",
    "    beta: bool\n",
    "\n",
    "@sync('files/nested_dataclass.yml')\n",
    "@dataclass\n",
    "class Sample:\n",
    "    foo: int\n",
    "    bar: Nested"
   ]
  },
  {
   "cell_type": "markdown",
   "metadata": {},
   "source": [
    "# Initialize a root instance"
   ]
  },
  {
   "cell_type": "code",
   "execution_count": 3,
   "metadata": {},
   "outputs": [
    {
     "name": "stderr",
     "output_type": "stream",
     "text": [
      "INFO: datafiles.managers: Loading values for <class '__main__.Sample'> instance\n",
      "INFO: datafiles.managers: Deserializing: files/nested_dataclass.yml\n",
      "INFO: datafiles.managers: Loaded values for object: Sample(foo=42, bar=Nested(alpha=1, beta=0))\n"
     ]
    }
   ],
   "source": [
    "sample = Sample(42, Nested(1, 0))"
   ]
  },
  {
   "cell_type": "code",
   "execution_count": 4,
   "metadata": {},
   "outputs": [
    {
     "name": "stdout",
     "output_type": "stream",
     "text": [
      "foo: 42\n",
      "bar:\n",
      "  alpha: true\n",
      "  beta: true\n"
     ]
    }
   ],
   "source": [
    "%%sh\n",
    "\n",
    "cat files/nested_dataclass.yml"
   ]
  },
  {
   "cell_type": "markdown",
   "metadata": {},
   "source": [
    "# Modify the nested object"
   ]
  },
  {
   "cell_type": "code",
   "execution_count": 5,
   "metadata": {},
   "outputs": [
    {
     "name": "stderr",
     "output_type": "stream",
     "text": [
      "INFO: datafiles.managers: Loading values for <class '__main__.Sample'> instance\n",
      "INFO: datafiles.managers: Deserializing: files/nested_dataclass.yml\n",
      "INFO: datafiles.managers: Setting 'foo' value: 42\n",
      "INFO: datafiles.managers: Loaded values for object: Sample(foo=42, bar=Nested(alpha=True, beta=True))\n",
      "INFO: datafiles.managers: Saving data for object: Sample(foo=42, bar=Nested(alpha=True, beta=1))\n",
      "INFO: datafiles.managers: Serialized data to text (.yml): 'foo: 42\\nbar:\\n  alpha: true\\n  beta: true\\n'\n",
      "INFO: datafiles.managers: Writing: files/nested_dataclass.yml\n"
     ]
    }
   ],
   "source": [
    "sample.bar.beta = 1"
   ]
  },
  {
   "cell_type": "markdown",
   "metadata": {},
   "source": [
    "# View modified file contents"
   ]
  },
  {
   "cell_type": "code",
   "execution_count": 6,
   "metadata": {},
   "outputs": [
    {
     "name": "stdout",
     "output_type": "stream",
     "text": [
      "foo: 42\n",
      "bar:\n",
      "  alpha: true\n",
      "  beta: true\n"
     ]
    }
   ],
   "source": [
    "%%sh\n",
    "\n",
    "cat files/nested_dataclass.yml"
   ]
  }
 ],
 "metadata": {
  "kernelspec": {
   "display_name": "Python 3",
   "language": "python",
   "name": "python3"
  },
  "language_info": {
   "codemirror_mode": {
    "name": "ipython",
    "version": 3
   },
   "file_extension": ".py",
   "mimetype": "text/x-python",
   "name": "python",
   "nbconvert_exporter": "python",
   "pygments_lexer": "ipython3",
   "version": "3.7.1"
  }
 },
 "nbformat": 4,
 "nbformat_minor": 2
}
