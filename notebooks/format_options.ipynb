{
 "cells": [
  {
   "cell_type": "code",
   "execution_count": 1,
   "metadata": {},
   "outputs": [],
   "source": [
    "%%sh\n",
    "rm -f format_demo.*"
   ]
  },
  {
   "cell_type": "code",
   "execution_count": 2,
   "metadata": {},
   "outputs": [],
   "source": [
    "from dataclasses import dataclass\n",
    "from typing import List\n",
    "\n",
    "@dataclass\n",
    "class Nested:\n",
    "    value: int\n",
    "\n",
    "@dataclass\n",
    "class Base:\n",
    "    my_dict: Nested\n",
    "    my_list: List[Nested]\n",
    "    my_bool: bool = True\n",
    "    my_float: float = 1.23\n",
    "    my_int: int = 42\n",
    "    my_str: str = \"Hello, world!\""
   ]
  },
  {
   "cell_type": "markdown",
   "metadata": {},
   "source": [
    "# INI"
   ]
  },
  {
   "cell_type": "code",
   "execution_count": 3,
   "metadata": {},
   "outputs": [],
   "source": [
    "# from dataclasses import dataclass\n",
    "# from datafiles import sync, field\n",
    "\n",
    "# @sync('format_demo.ini', defaults=True)\n",
    "# @dataclass\n",
    "# class Sample(Base):\n",
    "#     fmt: str = \"Configuration File\"\n",
    "        \n",
    "# sample = Sample(Nested(0), [Nested(1), Nested(2)])\n",
    "\n",
    "# print(sample.datafile.text)"
   ]
  },
  {
   "cell_type": "markdown",
   "metadata": {},
   "source": [
    "# JSON"
   ]
  },
  {
   "cell_type": "code",
   "execution_count": 4,
   "metadata": {},
   "outputs": [
    {
     "name": "stderr",
     "output_type": "stream",
     "text": [
      "INFO: datafiles.managers: Saving data for object: Sample(my_dict=Nested(value=0), my_list=[Nested(value=1), Nested(value=2)], my_bool=True, my_float=1.23, my_int=42, my_str='Hello, world!', fmt='JavaScript Object Notation')\n",
      "INFO: datafiles.managers: Serialized data to text (.json): '{\\n  \"my_dict\": {\\n    \"value\": 0\\n  },\\n  \"my_list\": [\\n    {\\n      \"value\": 1\\n    },\\n    {\\n      \"value\": 2\\n    }\\n  ],\\n  \"my_bool\": true,\\n  \"my_float\": 1.23,\\n  \"my_int\": 42,\\n  \"my_str\": \"Hello, world!\",\\n  \"fmt\": \"JavaScript Object Notation\"\\n}'\n",
      "INFO: datafiles.managers: Writing: /Users/Browning/Documents/datafiles/notebooks/format_demo.json\n",
      "INFO: datafiles.managers: Serialized data to text (.json): '{\\n  \"my_dict\": {\\n    \"value\": 0\\n  },\\n  \"my_list\": [\\n    {\\n      \"value\": 1\\n    },\\n    {\\n      \"value\": 2\\n    }\\n  ],\\n  \"my_bool\": true,\\n  \"my_float\": 1.23,\\n  \"my_int\": 42,\\n  \"my_str\": \"Hello, world!\",\\n  \"fmt\": \"JavaScript Object Notation\"\\n}'\n"
     ]
    },
    {
     "name": "stdout",
     "output_type": "stream",
     "text": [
      "{\n",
      "  \"my_dict\": {\n",
      "    \"value\": 0\n",
      "  },\n",
      "  \"my_list\": [\n",
      "    {\n",
      "      \"value\": 1\n",
      "    },\n",
      "    {\n",
      "      \"value\": 2\n",
      "    }\n",
      "  ],\n",
      "  \"my_bool\": true,\n",
      "  \"my_float\": 1.23,\n",
      "  \"my_int\": 42,\n",
      "  \"my_str\": \"Hello, world!\",\n",
      "  \"fmt\": \"JavaScript Object Notation\"\n",
      "}\n"
     ]
    }
   ],
   "source": [
    "from dataclasses import dataclass\n",
    "from datafiles import sync, field\n",
    "\n",
    "@sync('format_demo.json', defaults=True)\n",
    "@dataclass\n",
    "class Sample(Base):\n",
    "    fmt: str = \"JavaScript Object Notation\"\n",
    "        \n",
    "sample = Sample(Nested(0), [Nested(1), Nested(2)])\n",
    "\n",
    "print(sample.datafile.text)"
   ]
  },
  {
   "cell_type": "markdown",
   "metadata": {},
   "source": [
    "# TOML"
   ]
  },
  {
   "cell_type": "code",
   "execution_count": 5,
   "metadata": {},
   "outputs": [],
   "source": [
    "# from dataclasses import dataclass\n",
    "# from datafiles import sync, field\n",
    "\n",
    "# @sync('format_demo.toml', defaults=True)\n",
    "# @dataclass\n",
    "# class Sample(Base):\n",
    "#     fmt: str = \"Tom's Obvious Minimal Language\"\n",
    "        \n",
    "# sample = Sample(Nested(0), [Nested(1), Nested(2)])\n",
    "\n",
    "# print(sample.datafile.text)"
   ]
  },
  {
   "cell_type": "markdown",
   "metadata": {},
   "source": [
    "# XML"
   ]
  },
  {
   "cell_type": "code",
   "execution_count": 6,
   "metadata": {},
   "outputs": [],
   "source": [
    "# from dataclasses import dataclass\n",
    "# from datafiles import sync, field\n",
    "\n",
    "# @sync('format_demo.xml', defaults=True)\n",
    "# @dataclass\n",
    "# class Sample(Base):\n",
    "#     fmt: str = \"Extensible Markup Language\"\n",
    "        \n",
    "# sample = Sample(Nested(0), [Nested(1), Nested(2)])\n",
    "\n",
    "# print(sample.datafile.text)"
   ]
  },
  {
   "cell_type": "markdown",
   "metadata": {},
   "source": [
    "# YAML"
   ]
  },
  {
   "cell_type": "code",
   "execution_count": 7,
   "metadata": {},
   "outputs": [
    {
     "name": "stderr",
     "output_type": "stream",
     "text": [
      "INFO: datafiles.managers: Saving data for object: Sample(my_dict=Nested(value=0), my_list=[Nested(value=1), Nested(value=2)], my_bool=True, my_float=1.23, my_int=42, my_str='Hello, world!', fmt='JavaScript Object Notation')\n",
      "INFO: datafiles.managers: Serialized data to text (.json): '{\\n  \"my_dict\": {\\n    \"value\": 0\\n  },\\n  \"my_list\": [\\n    {\\n      \"value\": 1\\n    },\\n    {\\n      \"value\": 2\\n    }\\n  ],\\n  \"my_bool\": true,\\n  \"my_float\": 1.23,\\n  \"my_int\": 42,\\n  \"my_str\": \"Hello, world!\",\\n  \"fmt\": \"JavaScript Object Notation\"\\n}'\n",
      "INFO: datafiles.managers: Writing: /Users/Browning/Documents/datafiles/notebooks/format_demo.json\n",
      "INFO: datafiles.managers: Saving data for object: Sample(my_dict=Nested(value=0), my_list=[Nested(value=1), Nested(value=2)], my_bool=True, my_float=1.23, my_int=42, my_str='Hello, world!', fmt='JavaScript Object Notation')\n",
      "INFO: datafiles.managers: Serialized data to text (.json): '{\\n  \"my_dict\": {\\n    \"value\": 0\\n  },\\n  \"my_list\": [\\n    {\\n      \"value\": 1\\n    },\\n    {\\n      \"value\": 2\\n    }\\n  ],\\n  \"my_bool\": true,\\n  \"my_float\": 1.23,\\n  \"my_int\": 42,\\n  \"my_str\": \"Hello, world!\",\\n  \"fmt\": \"JavaScript Object Notation\"\\n}'\n",
      "INFO: datafiles.managers: Writing: /Users/Browning/Documents/datafiles/notebooks/format_demo.json\n",
      "INFO: datafiles.managers: Saving data for object: Sample(my_dict=Nested(value=0), my_list=[Nested(value=1), Nested(value=2)], my_bool=True, my_float=1.23, my_int=42, my_str='Hello, world!', fmt='JavaScript Object Notation')\n",
      "INFO: datafiles.managers: Serialized data to text (.json): '{\\n  \"my_dict\": {\\n    \"value\": 0\\n  },\\n  \"my_list\": [\\n    {\\n      \"value\": 1\\n    },\\n    {\\n      \"value\": 2\\n    }\\n  ],\\n  \"my_bool\": true,\\n  \"my_float\": 1.23,\\n  \"my_int\": 42,\\n  \"my_str\": \"Hello, world!\",\\n  \"fmt\": \"JavaScript Object Notation\"\\n}'\n",
      "INFO: datafiles.managers: Writing: /Users/Browning/Documents/datafiles/notebooks/format_demo.json\n",
      "INFO: datafiles.managers: Saving data for object: Sample_YAML(my_dict=Nested(value=0), my_list=[Nested(value=1), Nested(value=2)], my_bool=True, my_float=1.23, my_int=42, my_str='Hello, world!', fmt=\"YAML Ain't Markup Language\")\n",
      "INFO: datafiles.managers: Serialized data to text (.yml): \"my_dict:\\n  value: 0\\nmy_list:\\n- value: 1\\n- value: 2\\nmy_bool: true\\nmy_float: 1.23\\nmy_int: 42\\nmy_str: Hello, world!\\nfmt: YAML Ain't Markup Language\\n\"\n",
      "INFO: datafiles.managers: Writing: /Users/Browning/Documents/datafiles/notebooks/format_demo.yml\n",
      "INFO: datafiles.managers: Serialized data to text (.yml): \"my_dict:\\n  value: 0\\nmy_list:\\n- value: 1\\n- value: 2\\nmy_bool: true\\nmy_float: 1.23\\nmy_int: 42\\nmy_str: Hello, world!\\nfmt: YAML Ain't Markup Language\\n\"\n"
     ]
    },
    {
     "name": "stdout",
     "output_type": "stream",
     "text": [
      "my_dict:\n",
      "  value: 0\n",
      "my_list:\n",
      "- value: 1\n",
      "- value: 2\n",
      "my_bool: true\n",
      "my_float: 1.23\n",
      "my_int: 42\n",
      "my_str: Hello, world!\n",
      "fmt: YAML Ain't Markup Language\n",
      "\n"
     ]
    }
   ],
   "source": [
    "from dataclasses import dataclass\n",
    "from datafiles import sync, field\n",
    "\n",
    "@sync('format_demo.yml', defaults=True)\n",
    "@dataclass\n",
    "class Sample(Base):\n",
    "    fmt: str = \"YAML Ain't Markup Language\"\n",
    "        \n",
    "sample = Sample(Nested(0), [Nested(1), Nested(2)])\n",
    "\n",
    "print(sample.datafile.text)"
   ]
  }
 ],
 "metadata": {
  "kernelspec": {
   "display_name": "Python 3",
   "language": "python",
   "name": "python3"
  },
  "language_info": {
   "codemirror_mode": {
    "name": "ipython",
    "version": 3
   },
   "file_extension": ".py",
   "mimetype": "text/x-python",
   "name": "python",
   "nbconvert_exporter": "python",
   "pygments_lexer": "ipython3",
   "version": "3.7.1"
  }
 },
 "nbformat": 4,
 "nbformat_minor": 2
}
